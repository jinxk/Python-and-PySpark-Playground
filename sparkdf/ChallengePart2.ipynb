{
 "cells": [
  {
   "cell_type": "markdown",
   "id": "4e119aa3-afd7-4fc8-95cb-104fdb59671a",
   "metadata": {},
   "source": [
    "## Challenge : Part II - Data Preparation and Cleansing"
   ]
  },
  {
   "cell_type": "markdown",
   "id": "a3f282dd-acff-449d-8282-aa4f93def6f8",
   "metadata": {},
   "source": [
    "### Imports and Spark Session initialization"
   ]
  },
  {
   "cell_type": "code",
   "execution_count": 1,
   "id": "00910bc0-36d0-4177-92ba-4fb4616ed254",
   "metadata": {},
   "outputs": [],
   "source": [
    "from pyspark.sql import SparkSession\n",
    "from pyspark.sql.types import StructType, StructField, StringType, IntegerType, FloatType\n",
    "from pyspark.sql.functions import col, expr, split, trim, to_timestamp, year, month"
   ]
  },
  {
   "cell_type": "code",
   "execution_count": 2,
   "id": "14528141-29a4-4c77-83a9-c22ce8ea22a5",
   "metadata": {},
   "outputs": [],
   "source": [
    "spark = (SparkSession.builder.appName(\"SparkSalesAnalytics\").getOrCreate())"
   ]
  },
  {
   "cell_type": "markdown",
   "id": "844c326d-892c-40b6-8c1f-fafd86b2c91c",
   "metadata": {},
   "source": [
    "### DataFrame Preparation"
   ]
  },
  {
   "cell_type": "code",
   "execution_count": 3,
   "id": "abe80522-e263-4299-85c1-8868cc46c6a2",
   "metadata": {},
   "outputs": [],
   "source": [
    "sales_schema = StructType([\n",
    "    StructField(\"Order ID\", StringType(), True),\n",
    "    StructField(\"Product\", StringType(), True),\n",
    "    StructField(\"Quantity Ordered\", StringType(), True),\n",
    "    StructField(\"Price Each\", StringType(), True),\n",
    "    StructField(\"Order Date\", StringType(), True),\n",
    "    StructField(\"Purchase Address\", StringType(), True)\n",
    "])\n",
    "\n",
    "sales_file_path = \"./data/salesdata\"\n",
    "\n",
    "sales_df = (spark.read.format(\"csv\")\n",
    "           .option(\"header\", True)\n",
    "           .schema(sales_schema)\n",
    "           .load(sales_file_path))"
   ]
  },
  {
   "cell_type": "markdown",
   "id": "f50afbbe-8756-49a8-8941-3bdef24f1264",
   "metadata": {},
   "source": [
    "### Remove bad records (columns names recurring in the data)"
   ]
  },
  {
   "cell_type": "code",
   "execution_count": 4,
   "id": "759ef267-0267-4763-a52c-f8ce368f327e",
   "metadata": {},
   "outputs": [
    {
     "name": "stdout",
     "output_type": "stream",
     "text": [
      "Count of rows in original data frame -  186850\n",
      "Count of rows in having 'Order ID' in their Order IDs data frame -  355\n",
      "Count of rows in cleaned data frame -  185950\n"
     ]
    }
   ],
   "source": [
    "print(\"Count of rows in original data frame - \", sales_df.count())\n",
    "print(\"Count of rows in having 'Order ID' in their Order IDs data frame - \",sales_df.filter(col(\"Order ID\") == \"Order ID\").count())\n",
    "cleaned_sales_df = sales_df.filter(col(\"Order ID\") != \"Order ID\")\n",
    "print(\"Count of rows in cleaned data frame - \",cleaned_sales_df.count())"
   ]
  },
  {
   "cell_type": "markdown",
   "id": "6dff99b1-3f92-4373-b502-d7c9a1ab8a30",
   "metadata": {},
   "source": [
    "### Extract City and State from Address into New Columns"
   ]
  },
  {
   "cell_type": "code",
   "execution_count": 5,
   "id": "cc63e395-e8a0-42f8-8cc9-b82840612a39",
   "metadata": {},
   "outputs": [
    {
     "name": "stdout",
     "output_type": "stream",
     "text": [
      "+--------+--------------------+----------------+----------+--------------+--------------------+-----+-------------+\n",
      "|Order ID|             Product|Quantity Ordered|Price Each|    Order Date|    Purchase Address|State|         City|\n",
      "+--------+--------------------+----------------+----------+--------------+--------------------+-----+-------------+\n",
      "|  295665|  Macbook Pro Laptop|               1|      1700|12/30/19 00:01|136 Church St, Ne...|   NY|New York City|\n",
      "|  295666|  LG Washing Machine|               1|     600.0|12/29/19 07:03|562 2nd St, New Y...|   NY|New York City|\n",
      "|  295667|USB-C Charging Cable|               1|     11.95|12/12/19 18:21|277 Main St, New ...|   NY|New York City|\n",
      "|  295668|    27in FHD Monitor|               1|    149.99|12/22/19 15:13|410 6th St, San F...|   CA|San Francisco|\n",
      "|  295669|USB-C Charging Cable|               1|     11.95|12/18/19 12:38|43 Hill St, Atlan...|   GA|      Atlanta|\n",
      "+--------+--------------------+----------------+----------+--------------+--------------------+-----+-------------+\n",
      "only showing top 5 rows\n",
      "\n"
     ]
    }
   ],
   "source": [
    "new_col_sales_df = (cleaned_sales_df\n",
    "                    .withColumn(\"State\",trim(split(split(col(\"Purchase Address\"),\",\").getItem(2),\" \").getItem(1)))\n",
    "                    .withColumn(\"City\",trim(split(col(\"Purchase Address\"),\",\").getItem(1)))\n",
    "                   )\n",
    "new_col_sales_df.show(5)"
   ]
  },
  {
   "cell_type": "code",
   "execution_count": 6,
   "id": "e3ce8cbf-5ad0-4e10-9f4e-f19372ad6bd8",
   "metadata": {},
   "outputs": [
    {
     "name": "stdout",
     "output_type": "stream",
     "text": [
      "root\n",
      " |-- Product: string (nullable = true)\n",
      " |-- State: string (nullable = true)\n",
      " |-- City: string (nullable = true)\n",
      " |-- OrderID: integer (nullable = true)\n",
      " |-- Quantity: integer (nullable = true)\n",
      " |-- Price: float (nullable = true)\n",
      " |-- OrderDate: timestamp (nullable = true)\n",
      " |-- StoreAddress: string (nullable = true)\n",
      "\n",
      "+--------------------+-----+-------------+-------+--------+------+-------------------+--------------------------------------+\n",
      "|Product             |State|City         |OrderID|Quantity|Price |OrderDate          |StoreAddress                          |\n",
      "+--------------------+-----+-------------+-------+--------+------+-------------------+--------------------------------------+\n",
      "|Macbook Pro Laptop  |NY   |New York City|295665 |1       |1700.0|2019-12-30 00:01:00|136 Church St, New York City, NY 10001|\n",
      "|LG Washing Machine  |NY   |New York City|295666 |1       |600.0 |2019-12-29 07:03:00|562 2nd St, New York City, NY 10001   |\n",
      "|USB-C Charging Cable|NY   |New York City|295667 |1       |11.95 |2019-12-12 18:21:00|277 Main St, New York City, NY 10001  |\n",
      "|27in FHD Monitor    |CA   |San Francisco|295668 |1       |149.99|2019-12-22 15:13:00|410 6th St, San Francisco, CA 94016   |\n",
      "|USB-C Charging Cable|GA   |Atlanta      |295669 |1       |11.95 |2019-12-18 12:38:00|43 Hill St, Atlanta, GA 30301         |\n",
      "+--------------------+-----+-------------+-------+--------+------+-------------------+--------------------------------------+\n",
      "only showing top 5 rows\n",
      "\n"
     ]
    }
   ],
   "source": [
    "upd_fld_sales_df = (new_col_sales_df\n",
    "                        .withColumn(\"OrderID\", new_col_sales_df[\"Order ID\"].cast(IntegerType()))\n",
    "                        .withColumn(\"Product\", new_col_sales_df[\"Product\"].cast(StringType()))\n",
    "                        .withColumn(\"Quantity\", new_col_sales_df[\"Quantity Ordered\"].cast(IntegerType()))\n",
    "                        .withColumn(\"Price\", new_col_sales_df[\"Price Each\"].cast(FloatType()))\n",
    "                        .withColumn(\"OrderDate\", to_timestamp(new_col_sales_df[\"Order Date\"], \"MM/dd/yy HH:mm\"))\n",
    "                        .withColumn(\"StoreAddress\", new_col_sales_df[\"Purchase Address\"].cast(StringType()))\n",
    "                        .drop(\"Order ID\")\n",
    "                        .drop(\"Quantity Ordered\")\n",
    "                        .drop(\"Price Each\")\n",
    "                        .drop(\"Order Date\")\n",
    "                        .drop(\"Purchase Address\")\n",
    "                   )\n",
    "upd_fld_sales_df.printSchema()\n",
    "upd_fld_sales_df.show(5, truncate=False)"
   ]
  },
  {
   "cell_type": "markdown",
   "id": "5d76f4d7-d643-49d1-b2c6-177cd505a910",
   "metadata": {},
   "source": [
    "### Add New Columns: ReportYear and Month"
   ]
  },
  {
   "cell_type": "code",
   "execution_count": 7,
   "id": "36f6846b-2cb2-4639-a79b-6acaad538fbc",
   "metadata": {},
   "outputs": [
    {
     "name": "stdout",
     "output_type": "stream",
     "text": [
      "root\n",
      " |-- Product: string (nullable = true)\n",
      " |-- State: string (nullable = true)\n",
      " |-- City: string (nullable = true)\n",
      " |-- OrderID: integer (nullable = true)\n",
      " |-- Quantity: integer (nullable = true)\n",
      " |-- Price: float (nullable = true)\n",
      " |-- OrderDate: timestamp (nullable = true)\n",
      " |-- StoreAddress: string (nullable = true)\n",
      " |-- ReportYear: integer (nullable = true)\n",
      " |-- Month: integer (nullable = true)\n",
      "\n",
      "+--------------------+-----+-------------+-------+--------+------+-------------------+--------------------------------------+----------+-----+\n",
      "|Product             |State|City         |OrderID|Quantity|Price |OrderDate          |StoreAddress                          |ReportYear|Month|\n",
      "+--------------------+-----+-------------+-------+--------+------+-------------------+--------------------------------------+----------+-----+\n",
      "|Macbook Pro Laptop  |NY   |New York City|295665 |1       |1700.0|2019-12-30 00:01:00|136 Church St, New York City, NY 10001|2019      |12   |\n",
      "|LG Washing Machine  |NY   |New York City|295666 |1       |600.0 |2019-12-29 07:03:00|562 2nd St, New York City, NY 10001   |2019      |12   |\n",
      "|USB-C Charging Cable|NY   |New York City|295667 |1       |11.95 |2019-12-12 18:21:00|277 Main St, New York City, NY 10001  |2019      |12   |\n",
      "|27in FHD Monitor    |CA   |San Francisco|295668 |1       |149.99|2019-12-22 15:13:00|410 6th St, San Francisco, CA 94016   |2019      |12   |\n",
      "|USB-C Charging Cable|GA   |Atlanta      |295669 |1       |11.95 |2019-12-18 12:38:00|43 Hill St, Atlanta, GA 30301         |2019      |12   |\n",
      "+--------------------+-----+-------------+-------+--------+------+-------------------+--------------------------------------+----------+-----+\n",
      "only showing top 5 rows\n",
      "\n"
     ]
    }
   ],
   "source": [
    "year_and_month_sales_df = (upd_fld_sales_df\n",
    "                               .withColumn(\"ReportYear\", year(upd_fld_sales_df[\"OrderDate\"]))\n",
    "                               .withColumn(\"Month\", month(upd_fld_sales_df[\"OrderDate\"]))\n",
    "                          )\n",
    "year_and_month_sales_df.printSchema()\n",
    "year_and_month_sales_df.show(5, truncate=False)"
   ]
  },
  {
   "cell_type": "markdown",
   "id": "a6d40893-3891-44f8-8843-e3b08c0c3c32",
   "metadata": {},
   "source": [
    "### Find and remove all rows with any null columns"
   ]
  },
  {
   "cell_type": "code",
   "execution_count": 8,
   "id": "798176df-db1c-48bf-89a9-06825108733f",
   "metadata": {},
   "outputs": [
    {
     "name": "stdout",
     "output_type": "stream",
     "text": [
      "Count of rows before rows containing nulls are removed -  185950\n",
      "Count of rows after rows containing nulls are removed -  185950\n",
      "+-------+-----+----+-------+--------+-----+---------+------------+----------+-----+\n",
      "|Product|State|City|OrderID|Quantity|Price|OrderDate|StoreAddress|ReportYear|Month|\n",
      "+-------+-----+----+-------+--------+-----+---------+------------+----------+-----+\n",
      "+-------+-----+----+-------+--------+-----+---------+------------+----------+-----+\n",
      "\n",
      "+-------+------------+------+-------+-----------------+------------------+-----------------+--------------------+--------------------+-----------------+\n",
      "|summary|     Product| State|   City|          OrderID|          Quantity|            Price|        StoreAddress|          ReportYear|            Month|\n",
      "+-------+------------+------+-------+-----------------+------------------+-----------------+--------------------+--------------------+-----------------+\n",
      "|  count|      185950|185950| 185950|           185950|            185950|           185950|              185950|              185950|           185950|\n",
      "|   mean|        null|  null|   null|230417.5693788653|1.1243828986286637|184.3997338440329|                null|  2019.0001828448508|7.059139553643453|\n",
      "| stddev|        null|  null|   null| 51512.7371099961|0.4427926240286694|332.7313290259739|                null|0.013520813646192254| 3.50299600062899|\n",
      "|    min|20in Monitor|    CA|Atlanta|           141234|                 1|             2.99|1 11th St, Atlant...|                2019|                1|\n",
      "|    max|      iPhone|    WA|Seattle|           319670|                 9|           1700.0|999 Wilson St, Sa...|                2020|               12|\n",
      "+-------+------------+------+-------+-----------------+------------------+-----------------+--------------------+--------------------+-----------------+\n",
      "\n"
     ]
    }
   ],
   "source": [
    "# The filter in the first step automatically removed nulls because of how spark filter works\n",
    "# Read - https://stackoverflow.com/a/49115058 for more info\n",
    "no_nulls_sales_df = year_and_month_sales_df.na.drop(\"any\")\n",
    "print(\"Count of rows before rows containing nulls are removed - \", year_and_month_sales_df.count())\n",
    "print(\"Count of rows after rows containing nulls are removed - \", no_nulls_sales_df.count())\n",
    "no_nulls_sales_df.filter(col(\"Order ID\").isNull() == True).show()\n",
    "no_nulls_sales_df.describe('Product', 'State', 'City', 'OrderID', 'Quantity', 'Price', 'OrderDate', 'StoreAddress', 'ReportYear', 'Month').show()"
   ]
  },
  {
   "cell_type": "markdown",
   "id": "45d9f2d6-c6f4-4cf5-8598-2547bc715b05",
   "metadata": {},
   "source": [
    "### Write Final DataFrame to Parquet"
   ]
  },
  {
   "cell_type": "code",
   "execution_count": 9,
   "id": "1d01d589-9940-4fd5-ac53-901126ef4a17",
   "metadata": {},
   "outputs": [
    {
     "name": "stdout",
     "output_type": "stream",
     "text": [
      "root\n",
      " |-- OrderID: integer (nullable = true)\n",
      " |-- Product: string (nullable = true)\n",
      " |-- Quantity: integer (nullable = true)\n",
      " |-- Price: float (nullable = true)\n",
      " |-- OrderDate: timestamp (nullable = true)\n",
      " |-- StoreAddress: string (nullable = true)\n",
      " |-- City: string (nullable = true)\n",
      " |-- State: string (nullable = true)\n",
      " |-- ReportYear: integer (nullable = true)\n",
      " |-- Month: integer (nullable = true)\n",
      "\n",
      "+-------+--------------------------+--------+------+-------------------+-----------------------------------------+-------------+-----+----------+-----+\n",
      "|OrderID|Product                   |Quantity|Price |OrderDate          |StoreAddress                             |City         |State|ReportYear|Month|\n",
      "+-------+--------------------------+--------+------+-------------------+-----------------------------------------+-------------+-----+----------+-----+\n",
      "|295665 |Macbook Pro Laptop        |1       |1700.0|2019-12-30 00:01:00|136 Church St, New York City, NY 10001   |New York City|NY   |2019      |12   |\n",
      "|295666 |LG Washing Machine        |1       |600.0 |2019-12-29 07:03:00|562 2nd St, New York City, NY 10001      |New York City|NY   |2019      |12   |\n",
      "|295667 |USB-C Charging Cable      |1       |11.95 |2019-12-12 18:21:00|277 Main St, New York City, NY 10001     |New York City|NY   |2019      |12   |\n",
      "|295668 |27in FHD Monitor          |1       |149.99|2019-12-22 15:13:00|410 6th St, San Francisco, CA 94016      |San Francisco|CA   |2019      |12   |\n",
      "|295669 |USB-C Charging Cable      |1       |11.95 |2019-12-18 12:38:00|43 Hill St, Atlanta, GA 30301            |Atlanta      |GA   |2019      |12   |\n",
      "|295670 |AA Batteries (4-pack)     |1       |3.84  |2019-12-31 22:58:00|200 Jefferson St, New York City, NY 10001|New York City|NY   |2019      |12   |\n",
      "|295671 |USB-C Charging Cable      |1       |11.95 |2019-12-16 15:10:00|928 12th St, Portland, OR 97035          |Portland     |OR   |2019      |12   |\n",
      "|295672 |USB-C Charging Cable      |2       |11.95 |2019-12-13 09:29:00|813 Hickory St, Dallas, TX 75001         |Dallas       |TX   |2019      |12   |\n",
      "|295673 |Bose SoundSport Headphones|1       |99.99 |2019-12-15 23:26:00|718 Wilson St, Dallas, TX 75001          |Dallas       |TX   |2019      |12   |\n",
      "|295674 |AAA Batteries (4-pack)    |4       |2.99  |2019-12-28 11:51:00|77 7th St, Dallas, TX 75001              |Dallas       |TX   |2019      |12   |\n",
      "|295675 |USB-C Charging Cable      |2       |11.95 |2019-12-13 13:52:00|594 1st St, San Francisco, CA 94016      |San Francisco|CA   |2019      |12   |\n",
      "|295676 |ThinkPad Laptop           |1       |999.99|2019-12-28 17:19:00|410 Lincoln St, Los Angeles, CA 90001    |Los Angeles  |CA   |2019      |12   |\n",
      "|295677 |AA Batteries (4-pack)     |2       |3.84  |2019-12-20 19:19:00|866 Pine St, Boston, MA 02215            |Boston       |MA   |2019      |12   |\n",
      "|295678 |AAA Batteries (4-pack)    |2       |2.99  |2019-12-06 09:38:00|187 Lincoln St, Dallas, TX 75001         |Dallas       |TX   |2019      |12   |\n",
      "|295679 |USB-C Charging Cable      |1       |11.95 |2019-12-25 09:39:00|902 2nd St, Dallas, TX 75001             |Dallas       |TX   |2019      |12   |\n",
      "|295680 |Lightning Charging Cable  |1       |14.95 |2019-12-01 14:30:00|338 Main St, Austin, TX 73301            |Austin       |TX   |2019      |12   |\n",
      "|295681 |Google Phone              |1       |600.0 |2019-12-25 12:37:00|79 Elm St, Boston, MA 02215              |Boston       |MA   |2019      |12   |\n",
      "|295681 |USB-C Charging Cable      |1       |11.95 |2019-12-25 12:37:00|79 Elm St, Boston, MA 02215              |Boston       |MA   |2019      |12   |\n",
      "|295681 |Bose SoundSport Headphones|1       |99.99 |2019-12-25 12:37:00|79 Elm St, Boston, MA 02215              |Boston       |MA   |2019      |12   |\n",
      "|295681 |Wired Headphones          |1       |11.99 |2019-12-25 12:37:00|79 Elm St, Boston, MA 02215              |Boston       |MA   |2019      |12   |\n",
      "+-------+--------------------------+--------+------+-------------------+-----------------------------------------+-------------+-----+----------+-----+\n",
      "only showing top 20 rows\n",
      "\n"
     ]
    }
   ],
   "source": [
    "final_sales_df = no_nulls_sales_df.select(\"OrderID\", \"Product\", \"Quantity\", \"Price\", \"OrderDate\", \"StoreAddress\", \"City\", \"State\", \"ReportYear\", \"Month\")\n",
    "final_sales_df.printSchema()\n",
    "final_sales_df.show(truncate=False)"
   ]
  },
  {
   "cell_type": "code",
   "execution_count": 10,
   "id": "433a7cd6-519b-4d1a-b933-c5a44f558029",
   "metadata": {},
   "outputs": [],
   "source": [
    "(final_sales_df.write.option(\"header\", True)\n",
    "                     .partitionBy(\"ReportYear\",\"Month\")\n",
    "                     .mode(\"overwrite\")\n",
    "                     .parquet(\"./data/output/sales\")\n",
    ")"
   ]
  }
 ],
 "metadata": {
  "kernelspec": {
   "display_name": "Python 3 (ipykernel)",
   "language": "python",
   "name": "python3"
  },
  "language_info": {
   "codemirror_mode": {
    "name": "ipython",
    "version": 3
   },
   "file_extension": ".py",
   "mimetype": "text/x-python",
   "name": "python",
   "nbconvert_exporter": "python",
   "pygments_lexer": "ipython3",
   "version": "3.9.6"
  }
 },
 "nbformat": 4,
 "nbformat_minor": 5
}
