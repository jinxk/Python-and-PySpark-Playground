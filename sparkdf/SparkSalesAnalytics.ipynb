{
 "cells": [
  {
   "cell_type": "markdown",
   "id": "bd0b3212-a763-4e9a-8077-31eba1701955",
   "metadata": {},
   "source": [
    "# Spark Sales Analytics"
   ]
  },
  {
   "cell_type": "code",
   "execution_count": 1,
   "id": "ee33ab8a-b565-4ebd-8165-3986bc1f0971",
   "metadata": {},
   "outputs": [],
   "source": [
    "from pyspark.sql import SparkSession\n",
    "from pyspark.sql.types import StringType\n",
    "from pyspark.sql.functions import col , expr, first, sum, date_format, from_unixtime, unix_timestamp, lpad, hour, count, max, collect_list, size"
   ]
  },
  {
   "cell_type": "code",
   "execution_count": 2,
   "id": "7a4362cf-fc4f-44f0-a7bb-0b7d18ad5a18",
   "metadata": {},
   "outputs": [],
   "source": [
    "spark = (SparkSession.builder.appName(\"SparkSalesAnalytics\").getOrCreate())"
   ]
  },
  {
   "cell_type": "markdown",
   "id": "03277f3e-1982-4253-be5c-30b21e53c743",
   "metadata": {},
   "source": [
    "## Challenge Part 3 - Sales Analytics (Self Solution)"
   ]
  },
  {
   "cell_type": "markdown",
   "id": "c0d9aa7b-9035-47d3-98aa-262e649504ab",
   "metadata": {},
   "source": [
    "### Read 2019 data"
   ]
  },
  {
   "cell_type": "code",
   "execution_count": 3,
   "id": "23caec3a-5780-4f32-8aaf-5c1798375fde",
   "metadata": {},
   "outputs": [],
   "source": [
    "sales_data_path = \"./data/output/sales/ReportYear=2019\"\n",
    "\n",
    "sales_df = (spark.read.format(\"parquet\")\n",
    "           .option(\"header\", True)\n",
    "           .option(\"inferSchema\", True)\n",
    "           .load(sales_data_path))"
   ]
  },
  {
   "cell_type": "code",
   "execution_count": 4,
   "id": "37d3eeaa-9342-48fa-937d-a4fdad09d0b5",
   "metadata": {},
   "outputs": [
    {
     "name": "stdout",
     "output_type": "stream",
     "text": [
      "root\n",
      " |-- OrderID: integer (nullable = true)\n",
      " |-- Product: string (nullable = true)\n",
      " |-- Quantity: integer (nullable = true)\n",
      " |-- Price: float (nullable = true)\n",
      " |-- OrderDate: timestamp (nullable = true)\n",
      " |-- StoreAddress: string (nullable = true)\n",
      " |-- City: string (nullable = true)\n",
      " |-- State: string (nullable = true)\n",
      " |-- Month: integer (nullable = true)\n",
      "\n"
     ]
    }
   ],
   "source": [
    "sales_df.printSchema()"
   ]
  },
  {
   "cell_type": "markdown",
   "id": "255b8bd2-1c0c-4e30-a348-d99867a8be3b",
   "metadata": {},
   "source": [
    "#### Q1 : What was the best month in terms of sales?"
   ]
  },
  {
   "cell_type": "code",
   "execution_count": 5,
   "id": "61e1935d-7b8c-4c72-8151-800d344f570a",
   "metadata": {},
   "outputs": [
    {
     "name": "stdout",
     "output_type": "stream",
     "text": [
      "+-------+----------------------+--------+-----+-------------------+-----------------------------------+-------------+-----+-----+\n",
      "|OrderID|Product               |Quantity|Price|OrderDate          |StoreAddress                       |City         |State|Month|\n",
      "+-------+----------------------+--------+-----+-------------------+-----------------------------------+-------------+-----+-----+\n",
      "|295672 |USB-C Charging Cable  |2       |11.95|2019-12-13 09:29:00|813 Hickory St, Dallas, TX 75001   |Dallas       |TX   |12   |\n",
      "|295674 |AAA Batteries (4-pack)|4       |2.99 |2019-12-28 11:51:00|77 7th St, Dallas, TX 75001        |Dallas       |TX   |12   |\n",
      "|295675 |USB-C Charging Cable  |2       |11.95|2019-12-13 13:52:00|594 1st St, San Francisco, CA 94016|San Francisco|CA   |12   |\n",
      "|295677 |AA Batteries (4-pack) |2       |3.84 |2019-12-20 19:19:00|866 Pine St, Boston, MA 02215      |Boston       |MA   |12   |\n",
      "|295678 |AAA Batteries (4-pack)|2       |2.99 |2019-12-06 09:38:00|187 Lincoln St, Dallas, TX 75001   |Dallas       |TX   |12   |\n",
      "+-------+----------------------+--------+-----+-------------------+-----------------------------------+-------------+-----+-----+\n",
      "only showing top 5 rows\n",
      "\n"
     ]
    }
   ],
   "source": [
    "sales_df.where(col(\"Quantity\") > 1).show(5,False)"
   ]
  },
  {
   "cell_type": "code",
   "execution_count": 6,
   "id": "0b36827b-7eaf-4ebe-ac14-c8ac437795f1",
   "metadata": {},
   "outputs": [
    {
     "name": "stdout",
     "output_type": "stream",
     "text": [
      "December was the best month in terms of sales in 2019\n"
     ]
    }
   ],
   "source": [
    "top_sales_month = (sales_df.groupBy(\"Month\")\n",
    "                     .agg(sum(expr(\"Quantity * Price\")).alias(\"Total Sales\"))\n",
    "                     .orderBy(\"Total Sales\", ascending = False)\n",
    "                    ).select(from_unixtime(unix_timestamp(lpad(col(\"Month\").cast(StringType()),2,'0'),'MM'),'MMMM')).collect()[0][0]\n",
    "print(top_sales_month, \"was the best month in terms of sales in 2019\")"
   ]
  },
  {
   "cell_type": "markdown",
   "id": "10ffa155-eb77-406a-92ac-394f1ae1121d",
   "metadata": {},
   "source": [
    "#### Q2 : Which city actually sold the most products?"
   ]
  },
  {
   "cell_type": "code",
   "execution_count": 7,
   "id": "159ac735-df57-4a43-b244-b2636fd2cef4",
   "metadata": {},
   "outputs": [
    {
     "name": "stdout",
     "output_type": "stream",
     "text": [
      "San Francisco was the city that actually sold the most products in 2019\n"
     ]
    }
   ],
   "source": [
    "most_products_sold_city = (sales_df.groupBy(\"City\")\n",
    "                                     .agg(sum(\"Quantity\").alias(\"Total Products Sold\"))\n",
    "                                     .orderBy(\"Total Products Sold\", ascending = False)\n",
    "                            ).collect()[0][0]\n",
    "print(most_products_sold_city, \"was the city that actually sold the most products in 2019\")"
   ]
  },
  {
   "cell_type": "markdown",
   "id": "bd9892b3-917d-4701-a99a-2ca6a9fb4d4c",
   "metadata": {},
   "source": [
    "#### Q3 : What time should we display advertisements to maximize the likelihood of customers buying products?"
   ]
  },
  {
   "cell_type": "code",
   "execution_count": 8,
   "id": "93e49fde-35eb-430b-a1f1-053906e445cc",
   "metadata": {},
   "outputs": [
    {
     "name": "stdout",
     "output_type": "stream",
     "text": [
      "Advertisements can be displayed around 07 PM to maximize the likelihood of customers buying products.\n"
     ]
    }
   ],
   "source": [
    "hour_in_which_most_orders_placed = (sales_df.groupBy(hour(\"OrderDate\").alias(\"OrderHour\"))\n",
    "                                             .agg(count(\"OrderID\").alias(\"TotalOrdersForTheYear\"))\n",
    "                                             .orderBy(\"TotalOrdersForTheYear\",ascending=False)\n",
    "                                    ).select(from_unixtime(unix_timestamp(lpad(col(\"OrderHour\").cast(StringType()),2,'0'),'HH'),\"hh a\")).collect()[0][0]\n",
    "print(\"Advertisements can be displayed around\", hour_in_which_most_orders_placed, \"to maximize the likelihood of customers buying products.\")"
   ]
  },
  {
   "cell_type": "markdown",
   "id": "7b8bbc79-aa5d-4c59-9083-ae8cd0521fa9",
   "metadata": {},
   "source": [
    "#### Q4 : What products are often sold together in the state of \"NY\"?"
   ]
  },
  {
   "cell_type": "code",
   "execution_count": 9,
   "id": "15b3e9ab-8e8b-4b2f-83c9-73de7c4ed3d2",
   "metadata": {},
   "outputs": [
    {
     "name": "stdout",
     "output_type": "stream",
     "text": [
      "The following sets of items are the top 3 sets often bought together (shown alongside are the number of times they have been exclusively ordered in 2019) - \n",
      "+------------------------------------+------------+\n",
      "|ProductList                         |OrderedTimes|\n",
      "+------------------------------------+------------+\n",
      "|[iPhone, Lightning Charging Cable]  |126         |\n",
      "|[Google Phone, USB-C Charging Cable]|124         |\n",
      "|[Google Phone, Wired Headphones]    |52          |\n",
      "+------------------------------------+------------+\n",
      "only showing top 3 rows\n",
      "\n"
     ]
    }
   ],
   "source": [
    "print(\"The following sets of items are the top 3 sets often bought together (shown alongside are the number of times they have been exclusively ordered in 2019) - \")\n",
    "(sales_df.where(col(\"State\") == \"NY\")\n",
    "         .groupBy(\"OrderID\")\n",
    "         .agg(collect_list(\"Product\").alias(\"ProductList\"))\n",
    "         .where(size(\"ProductList\")>1)\n",
    ").groupBy(\"ProductList\").agg(count(\"ProductList\").alias(\"OrderedTimes\")).orderBy(\"OrderedTimes\", ascending = False).show(n=3,truncate=False)\n"
   ]
  },
  {
   "cell_type": "markdown",
   "id": "f0b1eaf3-78c1-4fc6-b388-d63d958fd5ba",
   "metadata": {},
   "source": [
    "## Challenge Part 3 - Sales Analytics (Instructor Solution)"
   ]
  },
  {
   "cell_type": "markdown",
   "id": "82576b39-25ae-47f3-bf19-d28f79d1e969",
   "metadata": {},
   "source": [
    "### Read 2019 Data from the Parquet Files Directory"
   ]
  },
  {
   "cell_type": "code",
   "execution_count": 10,
   "id": "47c3c6d5-d18e-4a2c-9999-0001382e728a",
   "metadata": {},
   "outputs": [],
   "source": [
    "source_data_path = \"./data/output/sales/\"\n",
    "partition = \"ReportYear=2019\"\n",
    "full_path = f\"{source_data_path}{partition}\""
   ]
  },
  {
   "cell_type": "code",
   "execution_count": 11,
   "id": "82aaf827-795a-4d32-bf93-55d04cd43ca4",
   "metadata": {},
   "outputs": [
    {
     "name": "stdout",
     "output_type": "stream",
     "text": [
      "+-------+--------------------------+--------+------+-------------------+-----------------------------------------+-------------+-----+-----+\n",
      "|OrderID|Product                   |Quantity|Price |OrderDate          |StoreAddress                             |City         |State|Month|\n",
      "+-------+--------------------------+--------+------+-------------------+-----------------------------------------+-------------+-----+-----+\n",
      "|295665 |Macbook Pro Laptop        |1       |1700.0|2019-12-30 00:01:00|136 Church St, New York City, NY 10001   |New York City|NY   |12   |\n",
      "|295666 |LG Washing Machine        |1       |600.0 |2019-12-29 07:03:00|562 2nd St, New York City, NY 10001      |New York City|NY   |12   |\n",
      "|295667 |USB-C Charging Cable      |1       |11.95 |2019-12-12 18:21:00|277 Main St, New York City, NY 10001     |New York City|NY   |12   |\n",
      "|295668 |27in FHD Monitor          |1       |149.99|2019-12-22 15:13:00|410 6th St, San Francisco, CA 94016      |San Francisco|CA   |12   |\n",
      "|295669 |USB-C Charging Cable      |1       |11.95 |2019-12-18 12:38:00|43 Hill St, Atlanta, GA 30301            |Atlanta      |GA   |12   |\n",
      "|295670 |AA Batteries (4-pack)     |1       |3.84  |2019-12-31 22:58:00|200 Jefferson St, New York City, NY 10001|New York City|NY   |12   |\n",
      "|295671 |USB-C Charging Cable      |1       |11.95 |2019-12-16 15:10:00|928 12th St, Portland, OR 97035          |Portland     |OR   |12   |\n",
      "|295672 |USB-C Charging Cable      |2       |11.95 |2019-12-13 09:29:00|813 Hickory St, Dallas, TX 75001         |Dallas       |TX   |12   |\n",
      "|295673 |Bose SoundSport Headphones|1       |99.99 |2019-12-15 23:26:00|718 Wilson St, Dallas, TX 75001          |Dallas       |TX   |12   |\n",
      "|295674 |AAA Batteries (4-pack)    |4       |2.99  |2019-12-28 11:51:00|77 7th St, Dallas, TX 75001              |Dallas       |TX   |12   |\n",
      "|295675 |USB-C Charging Cable      |2       |11.95 |2019-12-13 13:52:00|594 1st St, San Francisco, CA 94016      |San Francisco|CA   |12   |\n",
      "|295676 |ThinkPad Laptop           |1       |999.99|2019-12-28 17:19:00|410 Lincoln St, Los Angeles, CA 90001    |Los Angeles  |CA   |12   |\n",
      "|295677 |AA Batteries (4-pack)     |2       |3.84  |2019-12-20 19:19:00|866 Pine St, Boston, MA 02215            |Boston       |MA   |12   |\n",
      "|295678 |AAA Batteries (4-pack)    |2       |2.99  |2019-12-06 09:38:00|187 Lincoln St, Dallas, TX 75001         |Dallas       |TX   |12   |\n",
      "|295679 |USB-C Charging Cable      |1       |11.95 |2019-12-25 09:39:00|902 2nd St, Dallas, TX 75001             |Dallas       |TX   |12   |\n",
      "|295680 |Lightning Charging Cable  |1       |14.95 |2019-12-01 14:30:00|338 Main St, Austin, TX 73301            |Austin       |TX   |12   |\n",
      "|295681 |Google Phone              |1       |600.0 |2019-12-25 12:37:00|79 Elm St, Boston, MA 02215              |Boston       |MA   |12   |\n",
      "|295681 |USB-C Charging Cable      |1       |11.95 |2019-12-25 12:37:00|79 Elm St, Boston, MA 02215              |Boston       |MA   |12   |\n",
      "|295681 |Bose SoundSport Headphones|1       |99.99 |2019-12-25 12:37:00|79 Elm St, Boston, MA 02215              |Boston       |MA   |12   |\n",
      "|295681 |Wired Headphones          |1       |11.99 |2019-12-25 12:37:00|79 Elm St, Boston, MA 02215              |Boston       |MA   |12   |\n",
      "+-------+--------------------------+--------+------+-------------------+-----------------------------------------+-------------+-----+-----+\n",
      "only showing top 20 rows\n",
      "\n"
     ]
    }
   ],
   "source": [
    "sales2019_df = spark.read.parquet(full_path)\n",
    "sales2019_df.show(truncate=False)"
   ]
  },
  {
   "cell_type": "markdown",
   "id": "67b0ad29-139c-4fb2-94d2-7c330e56cddd",
   "metadata": {},
   "source": [
    "### What was the best month in sales?"
   ]
  },
  {
   "cell_type": "code",
   "execution_count": 12,
   "id": "d7af5679-5598-4d8c-8550-ebb20fc6cc46",
   "metadata": {},
   "outputs": [],
   "source": [
    "from pyspark.sql.functions import round,sum\n",
    "import pandas as pd\n",
    "import matplotlib.pyplot as plt\n",
    "import seaborn as sns"
   ]
  },
  {
   "cell_type": "code",
   "execution_count": 13,
   "id": "f121f4a9-0068-44e9-b91f-71cb517ba155",
   "metadata": {},
   "outputs": [],
   "source": [
    "sales_q1_df = ( sales2019_df.select(\n",
    "                                col(\"OrderID\"),\n",
    "                                col(\"Month\"),\n",
    "                                col(\"Price\"),\n",
    "                                col(\"Quantity\"),\n",
    "                                expr(\"Price * Quantity\").alias(\"Sales\")\n",
    "                             )\n",
    "               )"
   ]
  },
  {
   "cell_type": "code",
   "execution_count": 14,
   "id": "38fa5f25-db07-41a3-baa8-ed0e3376684b",
   "metadata": {},
   "outputs": [
    {
     "name": "stdout",
     "output_type": "stream",
     "text": [
      "+-------+-----+------+--------+------+\n",
      "|OrderID|Month| Price|Quantity| Sales|\n",
      "+-------+-----+------+--------+------+\n",
      "| 295665|   12|1700.0|       1|1700.0|\n",
      "| 295666|   12| 600.0|       1| 600.0|\n",
      "| 295667|   12| 11.95|       1| 11.95|\n",
      "| 295668|   12|149.99|       1|149.99|\n",
      "| 295669|   12| 11.95|       1| 11.95|\n",
      "| 295670|   12|  3.84|       1|  3.84|\n",
      "| 295671|   12| 11.95|       1| 11.95|\n",
      "| 295672|   12| 11.95|       2|  23.9|\n",
      "| 295673|   12| 99.99|       1| 99.99|\n",
      "| 295674|   12|  2.99|       4| 11.96|\n",
      "+-------+-----+------+--------+------+\n",
      "only showing top 10 rows\n",
      "\n"
     ]
    }
   ],
   "source": [
    "sales_q1_df.show(10)"
   ]
  },
  {
   "cell_type": "code",
   "execution_count": 15,
   "id": "11991ff1-9576-4edf-b986-7ff4a2629f4f",
   "metadata": {},
   "outputs": [],
   "source": [
    "sales_q1_df = (sales_q1_df\n",
    "              .groupBy(\"Month\")\n",
    "              .agg(round(sum(\"Sales\"),2).alias(\"TotalSales\"))\n",
    "              .orderBy(\"TotalSales\", ascending = False))"
   ]
  },
  {
   "cell_type": "code",
   "execution_count": 16,
   "id": "37e92bcf-974b-44c5-92f0-c61780523c4b",
   "metadata": {},
   "outputs": [
    {
     "name": "stdout",
     "output_type": "stream",
     "text": [
      "+-----+----------+\n",
      "|Month|TotalSales|\n",
      "+-----+----------+\n",
      "|   12|4613443.32|\n",
      "|   10|3736726.86|\n",
      "|    4|3390670.22|\n",
      "|   11|3199603.18|\n",
      "|    5|3152606.73|\n",
      "|    3|2807100.37|\n",
      "|    7|2647775.75|\n",
      "|    6|2577802.25|\n",
      "|    8|2244467.87|\n",
      "|    2|2202022.41|\n",
      "+-----+----------+\n",
      "only showing top 10 rows\n",
      "\n"
     ]
    }
   ],
   "source": [
    "sales_q1_df.show(10)"
   ]
  },
  {
   "cell_type": "code",
   "execution_count": 17,
   "id": "edf9c9ed-32d1-40f6-811f-e9ccd547cb14",
   "metadata": {},
   "outputs": [],
   "source": [
    "pd_sales_q1 = (sales_q1_df.orderBy(\"Month\")).toPandas()"
   ]
  },
  {
   "cell_type": "code",
   "execution_count": 18,
   "id": "2954c184-002f-4129-96b0-ae62a2b6026b",
   "metadata": {},
   "outputs": [
    {
     "data": {
      "text/html": [
       "<div>\n",
       "<style scoped>\n",
       "    .dataframe tbody tr th:only-of-type {\n",
       "        vertical-align: middle;\n",
       "    }\n",
       "\n",
       "    .dataframe tbody tr th {\n",
       "        vertical-align: top;\n",
       "    }\n",
       "\n",
       "    .dataframe thead th {\n",
       "        text-align: right;\n",
       "    }\n",
       "</style>\n",
       "<table border=\"1\" class=\"dataframe\">\n",
       "  <thead>\n",
       "    <tr style=\"text-align: right;\">\n",
       "      <th></th>\n",
       "      <th>Month</th>\n",
       "      <th>TotalSales</th>\n",
       "    </tr>\n",
       "  </thead>\n",
       "  <tbody>\n",
       "    <tr>\n",
       "      <th>0</th>\n",
       "      <td>1</td>\n",
       "      <td>1813586.43</td>\n",
       "    </tr>\n",
       "    <tr>\n",
       "      <th>1</th>\n",
       "      <td>2</td>\n",
       "      <td>2202022.41</td>\n",
       "    </tr>\n",
       "    <tr>\n",
       "      <th>2</th>\n",
       "      <td>3</td>\n",
       "      <td>2807100.37</td>\n",
       "    </tr>\n",
       "    <tr>\n",
       "      <th>3</th>\n",
       "      <td>4</td>\n",
       "      <td>3390670.22</td>\n",
       "    </tr>\n",
       "    <tr>\n",
       "      <th>4</th>\n",
       "      <td>5</td>\n",
       "      <td>3152606.73</td>\n",
       "    </tr>\n",
       "    <tr>\n",
       "      <th>5</th>\n",
       "      <td>6</td>\n",
       "      <td>2577802.25</td>\n",
       "    </tr>\n",
       "    <tr>\n",
       "      <th>6</th>\n",
       "      <td>7</td>\n",
       "      <td>2647775.75</td>\n",
       "    </tr>\n",
       "    <tr>\n",
       "      <th>7</th>\n",
       "      <td>8</td>\n",
       "      <td>2244467.87</td>\n",
       "    </tr>\n",
       "    <tr>\n",
       "      <th>8</th>\n",
       "      <td>9</td>\n",
       "      <td>2097560.12</td>\n",
       "    </tr>\n",
       "    <tr>\n",
       "      <th>9</th>\n",
       "      <td>10</td>\n",
       "      <td>3736726.86</td>\n",
       "    </tr>\n",
       "    <tr>\n",
       "      <th>10</th>\n",
       "      <td>11</td>\n",
       "      <td>3199603.18</td>\n",
       "    </tr>\n",
       "    <tr>\n",
       "      <th>11</th>\n",
       "      <td>12</td>\n",
       "      <td>4613443.32</td>\n",
       "    </tr>\n",
       "  </tbody>\n",
       "</table>\n",
       "</div>"
      ],
      "text/plain": [
       "    Month  TotalSales\n",
       "0       1  1813586.43\n",
       "1       2  2202022.41\n",
       "2       3  2807100.37\n",
       "3       4  3390670.22\n",
       "4       5  3152606.73\n",
       "5       6  2577802.25\n",
       "6       7  2647775.75\n",
       "7       8  2244467.87\n",
       "8       9  2097560.12\n",
       "9      10  3736726.86\n",
       "10     11  3199603.18\n",
       "11     12  4613443.32"
      ]
     },
     "execution_count": 18,
     "metadata": {},
     "output_type": "execute_result"
    }
   ],
   "source": [
    "pd_sales_q1"
   ]
  },
  {
   "cell_type": "code",
   "execution_count": 19,
   "id": "3de92ba4-ce30-47aa-b2ef-98670761d2fd",
   "metadata": {},
   "outputs": [
    {
     "data": {
      "image/png": "[encoded data removed]",
      "text/plain": [
       "<Figure size 720x432 with 1 Axes>"
      ]
     },
     "metadata": {
      "needs_background": "light"
     },
     "output_type": "display_data"
    }
   ],
   "source": [
    "plt.figure(figsize=(10,6))\n",
    "plt.ticklabel_format(useOffset=False, style=\"plain\")\n",
    "sns.set_theme(style=\"whitegrid\")\n",
    "sns.barplot(x=\"Month\",y=\"TotalSales\", data=pd_sales_q1).set_title(\"Total Sales per Month\")\n",
    "plt.ylabel(\"Total Sales\")\n",
    "plt.show()"
   ]
  },
  {
   "cell_type": "markdown",
   "id": "f3e3eff9-2e54-4f38-b6b1-456c94b456f1",
   "metadata": {},
   "source": [
    "### Get the city that sold the most products"
   ]
  },
  {
   "cell_type": "code",
   "execution_count": 20,
   "id": "77f6f69d-b1df-4e48-985b-3e17f08325bc",
   "metadata": {},
   "outputs": [
    {
     "name": "stdout",
     "output_type": "stream",
     "text": [
      "+-------+--------------------+--------+------+-------------------+--------------------+-------------+-----+-----+\n",
      "|OrderID|             Product|Quantity| Price|          OrderDate|        StoreAddress|         City|State|Month|\n",
      "+-------+--------------------+--------+------+-------------------+--------------------+-------------+-----+-----+\n",
      "| 295665|  Macbook Pro Laptop|       1|1700.0|2019-12-30 00:01:00|136 Church St, Ne...|New York City|   NY|   12|\n",
      "| 295666|  LG Washing Machine|       1| 600.0|2019-12-29 07:03:00|562 2nd St, New Y...|New York City|   NY|   12|\n",
      "| 295667|USB-C Charging Cable|       1| 11.95|2019-12-12 18:21:00|277 Main St, New ...|New York City|   NY|   12|\n",
      "| 295668|    27in FHD Monitor|       1|149.99|2019-12-22 15:13:00|410 6th St, San F...|San Francisco|   CA|   12|\n",
      "| 295669|USB-C Charging Cable|       1| 11.95|2019-12-18 12:38:00|43 Hill St, Atlan...|      Atlanta|   GA|   12|\n",
      "| 295670|AA Batteries (4-p...|       1|  3.84|2019-12-31 22:58:00|200 Jefferson St,...|New York City|   NY|   12|\n",
      "| 295671|USB-C Charging Cable|       1| 11.95|2019-12-16 15:10:00|928 12th St, Port...|     Portland|   OR|   12|\n",
      "| 295672|USB-C Charging Cable|       2| 11.95|2019-12-13 09:29:00|813 Hickory St, D...|       Dallas|   TX|   12|\n",
      "| 295673|Bose SoundSport H...|       1| 99.99|2019-12-15 23:26:00|718 Wilson St, Da...|       Dallas|   TX|   12|\n",
      "| 295674|AAA Batteries (4-...|       4|  2.99|2019-12-28 11:51:00|77 7th St, Dallas...|       Dallas|   TX|   12|\n",
      "+-------+--------------------+--------+------+-------------------+--------------------+-------------+-----+-----+\n",
      "only showing top 10 rows\n",
      "\n"
     ]
    }
   ],
   "source": [
    "sales2019_df.show(10)"
   ]
  },
  {
   "cell_type": "code",
   "execution_count": 21,
   "id": "3dd1decc-f463-43ff-b485-f5d211468ecc",
   "metadata": {},
   "outputs": [
    {
     "name": "stdout",
     "output_type": "stream",
     "text": [
      "+-------+--------+-------------+\n",
      "|OrderID|Quantity|         City|\n",
      "+-------+--------+-------------+\n",
      "| 295665|       1|New York City|\n",
      "| 295666|       1|New York City|\n",
      "| 295667|       1|New York City|\n",
      "| 295668|       1|San Francisco|\n",
      "| 295669|       1|      Atlanta|\n",
      "| 295670|       1|New York City|\n",
      "| 295671|       1|     Portland|\n",
      "| 295672|       2|       Dallas|\n",
      "| 295673|       1|       Dallas|\n",
      "| 295674|       4|       Dallas|\n",
      "| 295675|       2|San Francisco|\n",
      "| 295676|       1|  Los Angeles|\n",
      "| 295677|       2|       Boston|\n",
      "| 295678|       2|       Dallas|\n",
      "| 295679|       1|       Dallas|\n",
      "| 295680|       1|       Austin|\n",
      "| 295681|       1|       Boston|\n",
      "| 295681|       1|       Boston|\n",
      "| 295681|       1|       Boston|\n",
      "| 295681|       1|       Boston|\n",
      "+-------+--------+-------------+\n",
      "only showing top 20 rows\n",
      "\n"
     ]
    }
   ],
   "source": [
    "sales2019_df.select(\"OrderID\",\"Quantity\",\"City\").show()"
   ]
  },
  {
   "cell_type": "code",
   "execution_count": 22,
   "id": "3dc1075a-5cdf-497c-90d5-c5c616c212c3",
   "metadata": {},
   "outputs": [],
   "source": [
    "sales_q2_df = (sales2019_df.groupBy(\"City\")\n",
    "                           .agg(sum(\"quantity\").alias(\"TotalProducts\"))\n",
    "                           .orderBy(\"TotalProducts\", ascending=False))"
   ]
  },
  {
   "cell_type": "code",
   "execution_count": 23,
   "id": "b0efa8b8-ff16-4649-934f-82e4cb6602bd",
   "metadata": {},
   "outputs": [
    {
     "name": "stdout",
     "output_type": "stream",
     "text": [
      "+-------------+-------------+\n",
      "|         City|TotalProducts|\n",
      "+-------------+-------------+\n",
      "|San Francisco|        50226|\n",
      "|  Los Angeles|        33288|\n",
      "|New York City|        27916|\n",
      "|       Boston|        22524|\n",
      "|       Dallas|        16728|\n",
      "|      Atlanta|        16602|\n",
      "|      Seattle|        16552|\n",
      "|     Portland|        14051|\n",
      "|       Austin|        11151|\n",
      "+-------------+-------------+\n",
      "\n"
     ]
    }
   ],
   "source": [
    "sales_q2_df.show(10)"
   ]
  },
  {
   "cell_type": "code",
   "execution_count": 24,
   "id": "63edc4b3-19da-4ef8-85d9-f74bec021af3",
   "metadata": {},
   "outputs": [],
   "source": [
    "pd_sales_q2 = sales_q2_df.toPandas()"
   ]
  },
  {
   "cell_type": "code",
   "execution_count": 25,
   "id": "a54fadc7-cf7d-418d-bea5-0a98dab472d1",
   "metadata": {},
   "outputs": [
    {
     "data": {
      "text/html": [
       "<div>\n",
       "<style scoped>\n",
       "    .dataframe tbody tr th:only-of-type {\n",
       "        vertical-align: middle;\n",
       "    }\n",
       "\n",
       "    .dataframe tbody tr th {\n",
       "        vertical-align: top;\n",
       "    }\n",
       "\n",
       "    .dataframe thead th {\n",
       "        text-align: right;\n",
       "    }\n",
       "</style>\n",
       "<table border=\"1\" class=\"dataframe\">\n",
       "  <thead>\n",
       "    <tr style=\"text-align: right;\">\n",
       "      <th></th>\n",
       "      <th>City</th>\n",
       "      <th>TotalProducts</th>\n",
       "    </tr>\n",
       "  </thead>\n",
       "  <tbody>\n",
       "    <tr>\n",
       "      <th>0</th>\n",
       "      <td>San Francisco</td>\n",
       "      <td>50226</td>\n",
       "    </tr>\n",
       "    <tr>\n",
       "      <th>1</th>\n",
       "      <td>Los Angeles</td>\n",
       "      <td>33288</td>\n",
       "    </tr>\n",
       "    <tr>\n",
       "      <th>2</th>\n",
       "      <td>New York City</td>\n",
       "      <td>27916</td>\n",
       "    </tr>\n",
       "    <tr>\n",
       "      <th>3</th>\n",
       "      <td>Boston</td>\n",
       "      <td>22524</td>\n",
       "    </tr>\n",
       "    <tr>\n",
       "      <th>4</th>\n",
       "      <td>Dallas</td>\n",
       "      <td>16728</td>\n",
       "    </tr>\n",
       "    <tr>\n",
       "      <th>5</th>\n",
       "      <td>Atlanta</td>\n",
       "      <td>16602</td>\n",
       "    </tr>\n",
       "    <tr>\n",
       "      <th>6</th>\n",
       "      <td>Seattle</td>\n",
       "      <td>16552</td>\n",
       "    </tr>\n",
       "    <tr>\n",
       "      <th>7</th>\n",
       "      <td>Portland</td>\n",
       "      <td>14051</td>\n",
       "    </tr>\n",
       "    <tr>\n",
       "      <th>8</th>\n",
       "      <td>Austin</td>\n",
       "      <td>11151</td>\n",
       "    </tr>\n",
       "  </tbody>\n",
       "</table>\n",
       "</div>"
      ],
      "text/plain": [
       "            City  TotalProducts\n",
       "0  San Francisco          50226\n",
       "1    Los Angeles          33288\n",
       "2  New York City          27916\n",
       "3         Boston          22524\n",
       "4         Dallas          16728\n",
       "5        Atlanta          16602\n",
       "6        Seattle          16552\n",
       "7       Portland          14051\n",
       "8         Austin          11151"
      ]
     },
     "execution_count": 25,
     "metadata": {},
     "output_type": "execute_result"
    }
   ],
   "source": [
    "pd_sales_q2"
   ]
  },
  {
   "cell_type": "code",
   "execution_count": 26,
   "id": "b578b8b1-e827-41ea-9973-6fd34513d221",
   "metadata": {},
   "outputs": [
    {
     "data": {
      "image/png": "[encoded data removed]",
      "text/plain": [
       "<Figure size 720x432 with 1 Axes>"
      ]
     },
     "metadata": {},
     "output_type": "display_data"
    }
   ],
   "source": [
    "plt.figure(figsize=(10,6))\n",
    "plt.ticklabel_format(useOffset=False, style=\"plain\")\n",
    "sns.set_theme(style=\"darkgrid\")\n",
    "sns.barplot(x=\"TotalProducts\",y=\"City\", data=pd_sales_q2).set_title(\"Total Products Sold per City\")\n",
    "plt.xlabel(\"Total Products\")\n",
    "plt.show()"
   ]
  },
  {
   "cell_type": "markdown",
   "id": "f2cc9305-6b38-4009-a9d2-9ff7ac0c2f4a",
   "metadata": {},
   "source": [
    "### What time should we display advertisements to maximize the likelihood of customer's buying products?"
   ]
  },
  {
   "cell_type": "code",
   "execution_count": 27,
   "id": "8596d01c-4e1b-45ac-9e91-0f2f6bf1d3f6",
   "metadata": {},
   "outputs": [],
   "source": [
    "from pyspark.sql.functions import count, date_format"
   ]
  },
  {
   "cell_type": "code",
   "execution_count": 28,
   "id": "10778347-70fb-4553-97ba-dfc79ab12b76",
   "metadata": {},
   "outputs": [
    {
     "name": "stdout",
     "output_type": "stream",
     "text": [
      "+-------+--------------------------+--------+------+-------------------+-----------------------------------------+-------------+-----+-----+\n",
      "|OrderID|Product                   |Quantity|Price |OrderDate          |StoreAddress                             |City         |State|Month|\n",
      "+-------+--------------------------+--------+------+-------------------+-----------------------------------------+-------------+-----+-----+\n",
      "|295665 |Macbook Pro Laptop        |1       |1700.0|2019-12-30 00:01:00|136 Church St, New York City, NY 10001   |New York City|NY   |12   |\n",
      "|295666 |LG Washing Machine        |1       |600.0 |2019-12-29 07:03:00|562 2nd St, New York City, NY 10001      |New York City|NY   |12   |\n",
      "|295667 |USB-C Charging Cable      |1       |11.95 |2019-12-12 18:21:00|277 Main St, New York City, NY 10001     |New York City|NY   |12   |\n",
      "|295668 |27in FHD Monitor          |1       |149.99|2019-12-22 15:13:00|410 6th St, San Francisco, CA 94016      |San Francisco|CA   |12   |\n",
      "|295669 |USB-C Charging Cable      |1       |11.95 |2019-12-18 12:38:00|43 Hill St, Atlanta, GA 30301            |Atlanta      |GA   |12   |\n",
      "|295670 |AA Batteries (4-pack)     |1       |3.84  |2019-12-31 22:58:00|200 Jefferson St, New York City, NY 10001|New York City|NY   |12   |\n",
      "|295671 |USB-C Charging Cable      |1       |11.95 |2019-12-16 15:10:00|928 12th St, Portland, OR 97035          |Portland     |OR   |12   |\n",
      "|295672 |USB-C Charging Cable      |2       |11.95 |2019-12-13 09:29:00|813 Hickory St, Dallas, TX 75001         |Dallas       |TX   |12   |\n",
      "|295673 |Bose SoundSport Headphones|1       |99.99 |2019-12-15 23:26:00|718 Wilson St, Dallas, TX 75001          |Dallas       |TX   |12   |\n",
      "|295674 |AAA Batteries (4-pack)    |4       |2.99  |2019-12-28 11:51:00|77 7th St, Dallas, TX 75001              |Dallas       |TX   |12   |\n",
      "+-------+--------------------------+--------+------+-------------------+-----------------------------------------+-------------+-----+-----+\n",
      "only showing top 10 rows\n",
      "\n"
     ]
    }
   ],
   "source": [
    "sales2019_df.show(10,False)"
   ]
  },
  {
   "cell_type": "code",
   "execution_count": 29,
   "id": "0b59f0fb-e008-4045-93f1-5ff7e5910e5b",
   "metadata": {},
   "outputs": [
    {
     "name": "stdout",
     "output_type": "stream",
     "text": [
      "+-------+-----+\n",
      "|OrderID|count|\n",
      "+-------+-----+\n",
      "|300601 |2    |\n",
      "|304276 |2    |\n",
      "|310188 |2    |\n",
      "|261569 |2    |\n",
      "|265863 |2    |\n",
      "|269251 |2    |\n",
      "|276515 |2    |\n",
      "|277349 |2    |\n",
      "|193640 |2    |\n",
      "|284489 |2    |\n",
      "+-------+-----+\n",
      "only showing top 10 rows\n",
      "\n"
     ]
    }
   ],
   "source": [
    "sales2019_df.groupBy(\"OrderID\").agg(count(\"OrderID\").alias(\"count\")).where(col(\"count\") > 1).show(10, False)"
   ]
  },
  {
   "cell_type": "code",
   "execution_count": 30,
   "id": "1e08c509-6b7a-45c6-8f7f-67e505d9f832",
   "metadata": {},
   "outputs": [
    {
     "name": "stdout",
     "output_type": "stream",
     "text": [
      "+-------+------------------------+--------+------+-------------------+---------------------------------+-----------+-----+-----+\n",
      "|OrderID|Product                 |Quantity|Price |OrderDate          |StoreAddress                     |City       |State|Month|\n",
      "+-------+------------------------+--------+------+-------------------+---------------------------------+-----------+-----+-----+\n",
      "|300601 |Apple Airpods Headphones|1       |150.0 |2019-12-16 14:11:00|577 Elm St, Los Angeles, CA 90001|Los Angeles|CA   |12   |\n",
      "|300601 |20in Monitor            |1       |109.99|2019-12-16 14:11:00|577 Elm St, Los Angeles, CA 90001|Los Angeles|CA   |12   |\n",
      "+-------+------------------------+--------+------+-------------------+---------------------------------+-----------+-----+-----+\n",
      "\n"
     ]
    }
   ],
   "source": [
    "sales2019_df.filter(col(\"OrderID\") == 300601).show(truncate=False)"
   ]
  },
  {
   "cell_type": "code",
   "execution_count": 31,
   "id": "4ffca681-9ada-42c1-9176-1df268bc5f45",
   "metadata": {},
   "outputs": [],
   "source": [
    "sales_q3_df = (sales2019_df.select(\"OrderID\", date_format(\"OrderDate\",\"HH\").cast(\"int\").alias(\"Hour\"))\n",
    "                           .distinct()\n",
    "                           .groupBy(\"Hour\")\n",
    "                           .agg(count(\"Hour\").alias(\"TotalOrders\"))\n",
    "                           .orderBy(col(\"TotalOrders\"), ascending = False))"
   ]
  },
  {
   "cell_type": "code",
   "execution_count": 32,
   "id": "e0153eb3-5a5c-457c-95f2-d71a32ffc916",
   "metadata": {},
   "outputs": [
    {
     "name": "stdout",
     "output_type": "stream",
     "text": [
      "+----+-----------+\n",
      "|Hour|TotalOrders|\n",
      "+----+-----------+\n",
      "|  19|      12377|\n",
      "|  12|      12082|\n",
      "|  11|      11882|\n",
      "|  20|      11763|\n",
      "|  18|      11761|\n",
      "|  13|      11682|\n",
      "|  14|      10522|\n",
      "|  21|      10499|\n",
      "|  10|      10492|\n",
      "|  17|      10476|\n",
      "|  16|       9960|\n",
      "|  15|       9761|\n",
      "|  22|       8453|\n",
      "|   9|       8404|\n",
      "|   8|       6036|\n",
      "|  23|       5990|\n",
      "|   7|       3836|\n",
      "|   0|       3748|\n",
      "|   6|       2375|\n",
      "|   1|       2246|\n",
      "+----+-----------+\n",
      "only showing top 20 rows\n",
      "\n"
     ]
    }
   ],
   "source": [
    "sales_q3_df.show()"
   ]
  },
  {
   "cell_type": "code",
   "execution_count": 33,
   "id": "628a0614-db1a-4d95-b56e-893639b25441",
   "metadata": {},
   "outputs": [],
   "source": [
    "pd_sales_q3 = sales_q3_df.orderBy(\"Hour\").toPandas()"
   ]
  },
  {
   "cell_type": "code",
   "execution_count": 34,
   "id": "a1351fb7-e110-43b6-9641-61a159e2d73e",
   "metadata": {},
   "outputs": [
    {
     "data": {
      "text/html": [
       "<div>\n",
       "<style scoped>\n",
       "    .dataframe tbody tr th:only-of-type {\n",
       "        vertical-align: middle;\n",
       "    }\n",
       "\n",
       "    .dataframe tbody tr th {\n",
       "        vertical-align: top;\n",
       "    }\n",
       "\n",
       "    .dataframe thead th {\n",
       "        text-align: right;\n",
       "    }\n",
       "</style>\n",
       "<table border=\"1\" class=\"dataframe\">\n",
       "  <thead>\n",
       "    <tr style=\"text-align: right;\">\n",
       "      <th></th>\n",
       "      <th>Hour</th>\n",
       "      <th>TotalOrders</th>\n",
       "    </tr>\n",
       "  </thead>\n",
       "  <tbody>\n",
       "    <tr>\n",
       "      <th>0</th>\n",
       "      <td>0</td>\n",
       "      <td>3748</td>\n",
       "    </tr>\n",
       "    <tr>\n",
       "      <th>1</th>\n",
       "      <td>1</td>\n",
       "      <td>2246</td>\n",
       "    </tr>\n",
       "    <tr>\n",
       "      <th>2</th>\n",
       "      <td>2</td>\n",
       "      <td>1192</td>\n",
       "    </tr>\n",
       "    <tr>\n",
       "      <th>3</th>\n",
       "      <td>3</td>\n",
       "      <td>801</td>\n",
       "    </tr>\n",
       "    <tr>\n",
       "      <th>4</th>\n",
       "      <td>4</td>\n",
       "      <td>810</td>\n",
       "    </tr>\n",
       "    <tr>\n",
       "      <th>5</th>\n",
       "      <td>5</td>\n",
       "      <td>1258</td>\n",
       "    </tr>\n",
       "    <tr>\n",
       "      <th>6</th>\n",
       "      <td>6</td>\n",
       "      <td>2375</td>\n",
       "    </tr>\n",
       "    <tr>\n",
       "      <th>7</th>\n",
       "      <td>7</td>\n",
       "      <td>3836</td>\n",
       "    </tr>\n",
       "    <tr>\n",
       "      <th>8</th>\n",
       "      <td>8</td>\n",
       "      <td>6036</td>\n",
       "    </tr>\n",
       "    <tr>\n",
       "      <th>9</th>\n",
       "      <td>9</td>\n",
       "      <td>8404</td>\n",
       "    </tr>\n",
       "    <tr>\n",
       "      <th>10</th>\n",
       "      <td>10</td>\n",
       "      <td>10492</td>\n",
       "    </tr>\n",
       "    <tr>\n",
       "      <th>11</th>\n",
       "      <td>11</td>\n",
       "      <td>11882</td>\n",
       "    </tr>\n",
       "    <tr>\n",
       "      <th>12</th>\n",
       "      <td>12</td>\n",
       "      <td>12082</td>\n",
       "    </tr>\n",
       "    <tr>\n",
       "      <th>13</th>\n",
       "      <td>13</td>\n",
       "      <td>11682</td>\n",
       "    </tr>\n",
       "    <tr>\n",
       "      <th>14</th>\n",
       "      <td>14</td>\n",
       "      <td>10522</td>\n",
       "    </tr>\n",
       "    <tr>\n",
       "      <th>15</th>\n",
       "      <td>15</td>\n",
       "      <td>9761</td>\n",
       "    </tr>\n",
       "    <tr>\n",
       "      <th>16</th>\n",
       "      <td>16</td>\n",
       "      <td>9960</td>\n",
       "    </tr>\n",
       "    <tr>\n",
       "      <th>17</th>\n",
       "      <td>17</td>\n",
       "      <td>10476</td>\n",
       "    </tr>\n",
       "    <tr>\n",
       "      <th>18</th>\n",
       "      <td>18</td>\n",
       "      <td>11761</td>\n",
       "    </tr>\n",
       "    <tr>\n",
       "      <th>19</th>\n",
       "      <td>19</td>\n",
       "      <td>12377</td>\n",
       "    </tr>\n",
       "    <tr>\n",
       "      <th>20</th>\n",
       "      <td>20</td>\n",
       "      <td>11763</td>\n",
       "    </tr>\n",
       "    <tr>\n",
       "      <th>21</th>\n",
       "      <td>21</td>\n",
       "      <td>10499</td>\n",
       "    </tr>\n",
       "    <tr>\n",
       "      <th>22</th>\n",
       "      <td>22</td>\n",
       "      <td>8453</td>\n",
       "    </tr>\n",
       "    <tr>\n",
       "      <th>23</th>\n",
       "      <td>23</td>\n",
       "      <td>5990</td>\n",
       "    </tr>\n",
       "  </tbody>\n",
       "</table>\n",
       "</div>"
      ],
      "text/plain": [
       "    Hour  TotalOrders\n",
       "0      0         3748\n",
       "1      1         2246\n",
       "2      2         1192\n",
       "3      3          801\n",
       "4      4          810\n",
       "5      5         1258\n",
       "6      6         2375\n",
       "7      7         3836\n",
       "8      8         6036\n",
       "9      9         8404\n",
       "10    10        10492\n",
       "11    11        11882\n",
       "12    12        12082\n",
       "13    13        11682\n",
       "14    14        10522\n",
       "15    15         9761\n",
       "16    16         9960\n",
       "17    17        10476\n",
       "18    18        11761\n",
       "19    19        12377\n",
       "20    20        11763\n",
       "21    21        10499\n",
       "22    22         8453\n",
       "23    23         5990"
      ]
     },
     "execution_count": 34,
     "metadata": {},
     "output_type": "execute_result"
    }
   ],
   "source": [
    "pd_sales_q3"
   ]
  },
  {
   "cell_type": "code",
   "execution_count": 35,
   "id": "e72b5189-a54b-4049-b267-6bdb62e78de8",
   "metadata": {},
   "outputs": [
    {
     "data": {
      "image/png": "[encoded data removed]",
      "text/plain": [
       "<Figure size 720x432 with 1 Axes>"
      ]
     },
     "metadata": {},
     "output_type": "display_data"
    }
   ],
   "source": [
    "plt.figure(figsize=(10,6))\n",
    "plt.ticklabel_format(useOffset=False, style=\"plain\")\n",
    "sns.set_theme(style=\"whitegrid\")\n",
    "sns.lineplot(x=\"Hour\",y=\"TotalOrders\", data=pd_sales_q3)\n",
    "plt.ylabel(\"Total Orders\")\n",
    "plt.show()"
   ]
  },
  {
   "cell_type": "markdown",
   "id": "526a1698-da60-460e-b754-f1a02b2b51cd",
   "metadata": {},
   "source": [
    "### What products are most often sold together in the state of NY?"
   ]
  },
  {
   "cell_type": "code",
   "execution_count": 36,
   "id": "47ae05ef-7107-4ba3-8901-f1784bbf6ba9",
   "metadata": {},
   "outputs": [],
   "source": [
    "from pyspark.sql.functions import collect_list, size"
   ]
  },
  {
   "cell_type": "code",
   "execution_count": 37,
   "id": "8c9be056-dacc-4952-ab0f-6a129b4efa4f",
   "metadata": {},
   "outputs": [
    {
     "name": "stdout",
     "output_type": "stream",
     "text": [
      "+-------+--------------------+--------+------+-------------------+--------------------+-------------+-----+-----+\n",
      "|OrderID|             Product|Quantity| Price|          OrderDate|        StoreAddress|         City|State|Month|\n",
      "+-------+--------------------+--------+------+-------------------+--------------------+-------------+-----+-----+\n",
      "| 295665|  Macbook Pro Laptop|       1|1700.0|2019-12-30 00:01:00|136 Church St, Ne...|New York City|   NY|   12|\n",
      "| 295666|  LG Washing Machine|       1| 600.0|2019-12-29 07:03:00|562 2nd St, New Y...|New York City|   NY|   12|\n",
      "| 295667|USB-C Charging Cable|       1| 11.95|2019-12-12 18:21:00|277 Main St, New ...|New York City|   NY|   12|\n",
      "| 295668|    27in FHD Monitor|       1|149.99|2019-12-22 15:13:00|410 6th St, San F...|San Francisco|   CA|   12|\n",
      "| 295669|USB-C Charging Cable|       1| 11.95|2019-12-18 12:38:00|43 Hill St, Atlan...|      Atlanta|   GA|   12|\n",
      "| 295670|AA Batteries (4-p...|       1|  3.84|2019-12-31 22:58:00|200 Jefferson St,...|New York City|   NY|   12|\n",
      "| 295671|USB-C Charging Cable|       1| 11.95|2019-12-16 15:10:00|928 12th St, Port...|     Portland|   OR|   12|\n",
      "| 295672|USB-C Charging Cable|       2| 11.95|2019-12-13 09:29:00|813 Hickory St, D...|       Dallas|   TX|   12|\n",
      "| 295673|Bose SoundSport H...|       1| 99.99|2019-12-15 23:26:00|718 Wilson St, Da...|       Dallas|   TX|   12|\n",
      "| 295674|AAA Batteries (4-...|       4|  2.99|2019-12-28 11:51:00|77 7th St, Dallas...|       Dallas|   TX|   12|\n",
      "| 295675|USB-C Charging Cable|       2| 11.95|2019-12-13 13:52:00|594 1st St, San F...|San Francisco|   CA|   12|\n",
      "| 295676|     ThinkPad Laptop|       1|999.99|2019-12-28 17:19:00|410 Lincoln St, L...|  Los Angeles|   CA|   12|\n",
      "| 295677|AA Batteries (4-p...|       2|  3.84|2019-12-20 19:19:00|866 Pine St, Bost...|       Boston|   MA|   12|\n",
      "| 295678|AAA Batteries (4-...|       2|  2.99|2019-12-06 09:38:00|187 Lincoln St, D...|       Dallas|   TX|   12|\n",
      "| 295679|USB-C Charging Cable|       1| 11.95|2019-12-25 09:39:00|902 2nd St, Dalla...|       Dallas|   TX|   12|\n",
      "| 295680|Lightning Chargin...|       1| 14.95|2019-12-01 14:30:00|338 Main St, Aust...|       Austin|   TX|   12|\n",
      "| 295681|        Google Phone|       1| 600.0|2019-12-25 12:37:00|79 Elm St, Boston...|       Boston|   MA|   12|\n",
      "| 295681|USB-C Charging Cable|       1| 11.95|2019-12-25 12:37:00|79 Elm St, Boston...|       Boston|   MA|   12|\n",
      "| 295681|Bose SoundSport H...|       1| 99.99|2019-12-25 12:37:00|79 Elm St, Boston...|       Boston|   MA|   12|\n",
      "| 295681|    Wired Headphones|       1| 11.99|2019-12-25 12:37:00|79 Elm St, Boston...|       Boston|   MA|   12|\n",
      "+-------+--------------------+--------+------+-------------------+--------------------+-------------+-----+-----+\n",
      "only showing top 20 rows\n",
      "\n"
     ]
    }
   ],
   "source": [
    "sales2019_df.show()"
   ]
  },
  {
   "cell_type": "code",
   "execution_count": 38,
   "id": "e0734504-a81f-48f5-8359-8119ef304c7c",
   "metadata": {},
   "outputs": [],
   "source": [
    "sales_q4_df = (sales2019_df.where(col(\"State\") == \"NY\")\n",
    "                           .orderBy(\"OrderID\",\"Product\")\n",
    "                           .groupBy(\"OrderID\",\"State\")\n",
    "                           .agg(collect_list(\"Product\").alias(\"ProductList\"))\n",
    "              )"
   ]
  },
  {
   "cell_type": "code",
   "execution_count": 39,
   "id": "1df4144d-d63d-4329-b353-e7a9961883ff",
   "metadata": {},
   "outputs": [
    {
     "name": "stdout",
     "output_type": "stream",
     "text": [
      "+-------+-----+------------------------------------------------+\n",
      "|OrderID|State|ProductList                                     |\n",
      "+-------+-----+------------------------------------------------+\n",
      "|141851 |NY   |[27in FHD Monitor]                              |\n",
      "|142149 |NY   |[AA Batteries (4-pack)]                         |\n",
      "|142787 |NY   |[Lightning Charging Cable]                      |\n",
      "|143020 |NY   |[ThinkPad Laptop]                               |\n",
      "|143862 |NY   |[Apple Airpods Headphones]                      |\n",
      "|144151 |NY   |[LG Dryer]                                      |\n",
      "|144851 |NY   |[Apple Airpods Headphones, USB-C Charging Cable]|\n",
      "|146589 |NY   |[Wired Headphones]                              |\n",
      "|147784 |NY   |[AAA Batteries (4-pack)]                        |\n",
      "|148099 |NY   |[27in 4K Gaming Monitor]                        |\n",
      "+-------+-----+------------------------------------------------+\n",
      "only showing top 10 rows\n",
      "\n"
     ]
    }
   ],
   "source": [
    "sales_q4_df.show(10, False)"
   ]
  },
  {
   "cell_type": "code",
   "execution_count": 40,
   "id": "1508b843-e96a-4131-be9c-bbcdc4ab7c0a",
   "metadata": {},
   "outputs": [
    {
     "name": "stdout",
     "output_type": "stream",
     "text": [
      "+-------+-----+----------------------------------------+---------------+\n",
      "|OrderID|State|ProductList                             |ProductListSize|\n",
      "+-------+-----+----------------------------------------+---------------+\n",
      "|253929 |NY   |[20in Monitor, 27in 4K Gaming Monitor]  |2              |\n",
      "|248053 |NY   |[20in Monitor, AA Batteries (4-pack)]   |2              |\n",
      "|197004 |NY   |[20in Monitor, AA Batteries (4-pack)]   |2              |\n",
      "|266247 |NY   |[20in Monitor, AA Batteries (4-pack)]   |2              |\n",
      "|158102 |NY   |[20in Monitor, AA Batteries (4-pack)]   |2              |\n",
      "|176251 |NY   |[20in Monitor, AAA Batteries (4-pack)]  |2              |\n",
      "|245465 |NY   |[20in Monitor, AAA Batteries (4-pack)]  |2              |\n",
      "|194762 |NY   |[20in Monitor, AAA Batteries (4-pack)]  |2              |\n",
      "|234956 |NY   |[20in Monitor, Apple Airpods Headphones]|2              |\n",
      "|204645 |NY   |[20in Monitor, Apple Airpods Headphones]|2              |\n",
      "+-------+-----+----------------------------------------+---------------+\n",
      "only showing top 10 rows\n",
      "\n"
     ]
    }
   ],
   "source": [
    "sales_q4_df = (sales_q4_df.withColumn(\"ProductListSize\", size(\"ProductList\")))\n",
    "sales_q4_df.filter(col(\"ProductListSize\") > 1).orderBy(\"ProductList\").show(10, False)"
   ]
  },
  {
   "cell_type": "code",
   "execution_count": 41,
   "id": "66f8e87b-079d-403e-becb-ae8868201ee7",
   "metadata": {},
   "outputs": [
    {
     "name": "stdout",
     "output_type": "stream",
     "text": [
      "+-------------------------------------------------+-----+\n",
      "|ProductList                                      |count|\n",
      "+-------------------------------------------------+-----+\n",
      "|[Google Phone, USB-C Charging Cable]             |127  |\n",
      "|[Lightning Charging Cable, iPhone]               |126  |\n",
      "|[Google Phone, Wired Headphones]                 |53   |\n",
      "|[USB-C Charging Cable, Vareebadd Phone]          |50   |\n",
      "|[Wired Headphones, iPhone]                       |46   |\n",
      "|[Apple Airpods Headphones, iPhone]               |45   |\n",
      "|[Bose SoundSport Headphones, Google Phone]       |24   |\n",
      "|[Apple Airpods Headphones, Wired Headphones]     |19   |\n",
      "|[Vareebadd Phone, Wired Headphones]              |17   |\n",
      "|[AA Batteries (4-pack), Lightning Charging Cable]|16   |\n",
      "+-------------------------------------------------+-----+\n",
      "only showing top 10 rows\n",
      "\n"
     ]
    }
   ],
   "source": [
    "(sales_q4_df.filter(col(\"ProductListSize\") > 1)\n",
    "            .groupBy(\"ProductList\")\n",
    "            .count()\n",
    "            .orderBy(\"count\", ascending=False)\n",
    ").show(10, False)"
   ]
  },
  {
   "cell_type": "code",
   "execution_count": null,
   "id": "ced9a607-2c58-429e-b813-24a29f7cb7a4",
   "metadata": {},
   "outputs": [],
   "source": []
  }
 ],
 "metadata": {
  "kernelspec": {
   "display_name": "Python 3 (ipykernel)",
   "language": "python",
   "name": "python3"
  },
  "language_info": {
   "codemirror_mode": {
    "name": "ipython",
    "version": 3
   },
   "file_extension": ".py",
   "mimetype": "text/x-python",
   "name": "python",
   "nbconvert_exporter": "python",
   "pygments_lexer": "ipython3",
   "version": "3.9.6"
  }
 },
 "nbformat": 4,
 "nbformat_minor": 5
}
