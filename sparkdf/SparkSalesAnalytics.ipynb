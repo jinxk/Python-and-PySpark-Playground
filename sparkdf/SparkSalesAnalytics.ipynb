{
 "cells": [
  {
   "cell_type": "code",
   "execution_count": 94,
   "id": "c05c5b8e-4a45-4be7-8cf7-70b39efc1ea6",
   "metadata": {},
   "outputs": [],
   "source": [
    "from pyspark.sql import SparkSession\n",
    "from pyspark.sql.types import StructType, StructField, StringType, IntegerType, FloatType"
   ]
  },
  {
   "cell_type": "code",
   "execution_count": 2,
   "id": "644cde2f-c836-4c3d-9bb1-088aeee9d7ed",
   "metadata": {},
   "outputs": [],
   "source": [
    "spark = (SparkSession.builder.appName(\"SparkSalesAnalytics\").getOrCreate())"
   ]
  },
  {
   "cell_type": "markdown",
   "id": "a97f01e9-0efa-45f1-a17e-a9b598428dc9",
   "metadata": {},
   "source": [
    "## Data Preparation"
   ]
  },
  {
   "cell_type": "code",
   "execution_count": 3,
   "id": "5a9fc0a3-6cbf-40e9-85a0-e52cbdb2d0bf",
   "metadata": {},
   "outputs": [],
   "source": [
    "schema = StructType([\n",
    "    StructField(\"Order ID\", StringType(), True),\n",
    "    StructField(\"Product\", StringType(), True),\n",
    "    StructField(\"Quantity Ordered\", StringType(), True),\n",
    "    StructField(\"Price Each\", StringType(), True),\n",
    "    StructField(\"Order Date\", StringType(), True),\n",
    "    StructField(\"Purchase Address\", IntegerType(), True)\n",
    "])"
   ]
  },
  {
   "cell_type": "code",
   "execution_count": 4,
   "id": "7a367507-c26c-4479-bed9-79e71b435a4c",
   "metadata": {},
   "outputs": [],
   "source": [
    "sales_file_path = \"./data/salesdata\"\n",
    "sales_df = (spark.read.format(\"csv\")\n",
    "           .option(\"header\", True)\n",
    "           .schema(schema)\n",
    "           .load(sales_file_path))"
   ]
  },
  {
   "cell_type": "code",
   "execution_count": 5,
   "id": "d2ba2e2b-aae1-4f55-a40b-87b422001543",
   "metadata": {},
   "outputs": [
    {
     "name": "stdout",
     "output_type": "stream",
     "text": [
      "+--------+--------------------------+----------------+----------+--------------+----------------+\n",
      "|Order ID|Product                   |Quantity Ordered|Price Each|Order Date    |Purchase Address|\n",
      "+--------+--------------------------+----------------+----------+--------------+----------------+\n",
      "|295665  |Macbook Pro Laptop        |1               |1700      |12/30/19 00:01|null            |\n",
      "|295666  |LG Washing Machine        |1               |600.0     |12/29/19 07:03|null            |\n",
      "|295667  |USB-C Charging Cable      |1               |11.95     |12/12/19 18:21|null            |\n",
      "|295668  |27in FHD Monitor          |1               |149.99    |12/22/19 15:13|null            |\n",
      "|295669  |USB-C Charging Cable      |1               |11.95     |12/18/19 12:38|null            |\n",
      "|295670  |AA Batteries (4-pack)     |1               |3.84      |12/31/19 22:58|null            |\n",
      "|295671  |USB-C Charging Cable      |1               |11.95     |12/16/19 15:10|null            |\n",
      "|295672  |USB-C Charging Cable      |2               |11.95     |12/13/19 09:29|null            |\n",
      "|295673  |Bose SoundSport Headphones|1               |99.99     |12/15/19 23:26|null            |\n",
      "|295674  |AAA Batteries (4-pack)    |4               |2.99      |12/28/19 11:51|null            |\n",
      "+--------+--------------------------+----------------+----------+--------------+----------------+\n",
      "only showing top 10 rows\n",
      "\n"
     ]
    }
   ],
   "source": [
    "sales_df.show(10,truncate=False)"
   ]
  },
  {
   "cell_type": "code",
   "execution_count": 7,
   "id": "61705f85-5cc0-41b7-937a-ff918b0bf0ed",
   "metadata": {},
   "outputs": [
    {
     "name": "stdout",
     "output_type": "stream",
     "text": [
      "root\n",
      " |-- Order ID: string (nullable = true)\n",
      " |-- Product: string (nullable = true)\n",
      " |-- Quantity Ordered: string (nullable = true)\n",
      " |-- Price Each: string (nullable = true)\n",
      " |-- Order Date: string (nullable = true)\n",
      " |-- Purchase Address: integer (nullable = true)\n",
      "\n"
     ]
    }
   ],
   "source": [
    "sales_df.printSchema()"
   ]
  },
  {
   "cell_type": "markdown",
   "id": "409ddcd1-8c45-42cc-a40e-1964e2a3e438",
   "metadata": {},
   "source": [
    "## Working with Structured Operations"
   ]
  },
  {
   "cell_type": "markdown",
   "id": "a6146094-dcbc-4485-84a0-fed3fc8367b3",
   "metadata": {},
   "source": [
    "### Reading a JSON File"
   ]
  },
  {
   "cell_type": "code",
   "execution_count": 8,
   "id": "abe341ce-6d3d-43e6-9eae-4050fa717d7d",
   "metadata": {},
   "outputs": [],
   "source": [
    "from pyspark.sql.types import ArrayType, FloatType, DateType, BooleanType"
   ]
  },
  {
   "cell_type": "code",
   "execution_count": 9,
   "id": "04666923-6206-45e7-998a-877342c410d3",
   "metadata": {},
   "outputs": [],
   "source": [
    "persons_schema = StructType([\n",
    "    StructField(\"id\", IntegerType(), True),\n",
    "    StructField(\"first_name\", StringType(), True),\n",
    "    StructField(\"last_name\", StringType(), True),\n",
    "    StructField(\"fav_movies\", ArrayType(StringType()), True),\n",
    "    StructField(\"salary\", FloatType(), True),\n",
    "    StructField(\"image_url\", StringType(), True),\n",
    "    StructField(\"date_of_birth\", DateType(), True),\n",
    "    StructField(\"active\", BooleanType(), True)\n",
    "])"
   ]
  },
  {
   "cell_type": "code",
   "execution_count": 10,
   "id": "680cc7b9-7d48-445e-959b-870f706c7fd9",
   "metadata": {},
   "outputs": [],
   "source": [
    "json_file_path = \"./data/persons/persons.json\"\n",
    "persons_df = (spark.read.json(json_file_path, persons_schema, multiLine=\"True\"))"
   ]
  },
  {
   "cell_type": "code",
   "execution_count": 11,
   "id": "a8dc3bbc-35c5-462e-a17c-6c9cbe190b5a",
   "metadata": {},
   "outputs": [
    {
     "name": "stdout",
     "output_type": "stream",
     "text": [
      "root\n",
      " |-- id: integer (nullable = true)\n",
      " |-- first_name: string (nullable = true)\n",
      " |-- last_name: string (nullable = true)\n",
      " |-- fav_movies: array (nullable = true)\n",
      " |    |-- element: string (containsNull = true)\n",
      " |-- salary: float (nullable = true)\n",
      " |-- image_url: string (nullable = true)\n",
      " |-- date_of_birth: date (nullable = true)\n",
      " |-- active: boolean (nullable = true)\n",
      "\n"
     ]
    }
   ],
   "source": [
    "persons_df.printSchema()"
   ]
  },
  {
   "cell_type": "code",
   "execution_count": 13,
   "id": "d7c4bbd9-1d11-4acd-9826-4a4c44083456",
   "metadata": {},
   "outputs": [
    {
     "name": "stdout",
     "output_type": "stream",
     "text": [
      "+---+----------+---------+-------------------------------------------------------------+-------+-----------------------------------------------+-------------+------+\n",
      "|id |first_name|last_name|fav_movies                                                   |salary |image_url                                      |date_of_birth|active|\n",
      "+---+----------+---------+-------------------------------------------------------------+-------+-----------------------------------------------+-------------+------+\n",
      "|1  |Drucy     |Poppy    |[I giorni contati]                                           |1463.36|http://dummyimage.com/126x166.png/cc0000/ffffff|1991-02-16   |true  |\n",
      "|2  |Emelyne   |Blaza    |[Musketeer, The, Topralli]                                   |3006.04|http://dummyimage.com/158x106.bmp/cc0000/ffffff|1991-11-02   |false |\n",
      "|3  |Max       |Rettie   |[The Forgotten Space, Make It Happen]                        |1422.88|http://dummyimage.com/237x140.jpg/ff4444/ffffff|1990-03-03   |false |\n",
      "|4  |Ilario    |Kean     |[Up Close and Personal]                                      |3561.36|http://dummyimage.com/207x121.jpg/cc0000/ffffff|1987-06-09   |true  |\n",
      "|5  |Toddy     |Drexel   |[Walk in the Clouds, A]                                      |4934.87|http://dummyimage.com/116x202.png/cc0000/ffffff|1992-10-28   |true  |\n",
      "|6  |Oswald    |Petrolli |[Wing and the Thigh, The (L'aile ou la cuisse)]              |1153.23|http://dummyimage.com/137x172.jpg/5fa2dd/ffffff|1986-09-02   |false |\n",
      "|7  |Adrian    |Clarey   |[Walking Tall, Paradise, Hawaiian Style]                     |1044.73|http://dummyimage.com/244x218.bmp/cc0000/ffffff|1971-08-24   |false |\n",
      "|8  |Dominica  |Goodnow  |[Hearts Divided]                                             |1147.76|http://dummyimage.com/112x203.jpg/dddddd/000000|1973-08-27   |false |\n",
      "|9  |Emory     |Slocomb  |[Snake and Crane Arts of Shaolin (She hao ba bu), Mala Noche]|1082.11|http://dummyimage.com/138x226.jpg/cc0000/ffffff|1974-06-08   |true  |\n",
      "|10 |Jeremias  |Bode     |[Farewell to Arms, A]                                        |3472.63|http://dummyimage.com/243x108.bmp/dddddd/000000|1997-08-02   |true  |\n",
      "+---+----------+---------+-------------------------------------------------------------+-------+-----------------------------------------------+-------------+------+\n",
      "only showing top 10 rows\n",
      "\n"
     ]
    }
   ],
   "source": [
    "persons_df.show(10, truncate=False)"
   ]
  },
  {
   "cell_type": "markdown",
   "id": "49d7c315-61a1-4f42-b85a-5144cac313d2",
   "metadata": {},
   "source": [
    "## Columns and Expressions"
   ]
  },
  {
   "cell_type": "code",
   "execution_count": 14,
   "id": "8cbf9543-f3c2-45e2-9b11-a40e0e205a8d",
   "metadata": {},
   "outputs": [],
   "source": [
    "from pyspark.sql.functions import col, expr"
   ]
  },
  {
   "cell_type": "code",
   "execution_count": 15,
   "id": "cbc7ef0d-b95d-4b94-9e69-b6d635be9fe2",
   "metadata": {},
   "outputs": [
    {
     "name": "stdout",
     "output_type": "stream",
     "text": [
      "+----------+---------+-------------+\n",
      "|first_name|last_name|date_of_birth|\n",
      "+----------+---------+-------------+\n",
      "|     Drucy|    Poppy|   1991-02-16|\n",
      "|   Emelyne|    Blaza|   1991-11-02|\n",
      "|       Max|   Rettie|   1990-03-03|\n",
      "|    Ilario|     Kean|   1987-06-09|\n",
      "|     Toddy|   Drexel|   1992-10-28|\n",
      "+----------+---------+-------------+\n",
      "only showing top 5 rows\n",
      "\n"
     ]
    }
   ],
   "source": [
    "persons_df.select(col(\"first_name\"),col(\"last_name\"),col(\"date_of_birth\")).show(5)"
   ]
  },
  {
   "cell_type": "code",
   "execution_count": 16,
   "id": "94b9f419-5b2b-482a-800e-929ab9592db9",
   "metadata": {},
   "outputs": [
    {
     "name": "stdout",
     "output_type": "stream",
     "text": [
      "+----------+---------+-------------+\n",
      "|first_name|last_name|date_of_birth|\n",
      "+----------+---------+-------------+\n",
      "|     Drucy|    Poppy|   1991-02-16|\n",
      "|   Emelyne|    Blaza|   1991-11-02|\n",
      "|       Max|   Rettie|   1990-03-03|\n",
      "|    Ilario|     Kean|   1987-06-09|\n",
      "|     Toddy|   Drexel|   1992-10-28|\n",
      "+----------+---------+-------------+\n",
      "only showing top 5 rows\n",
      "\n"
     ]
    }
   ],
   "source": [
    "persons_df.select(expr(\"first_name\"),expr(\"last_name\"),expr(\"date_of_birth\")).show(5)"
   ]
  },
  {
   "cell_type": "code",
   "execution_count": 17,
   "id": "87314048-5a6b-475c-b7a3-fb347f81ccd6",
   "metadata": {},
   "outputs": [],
   "source": [
    "from pyspark.sql.functions import concat_ws"
   ]
  },
  {
   "cell_type": "code",
   "execution_count": 18,
   "id": "ddf91529-5de3-487f-b41b-83c2ec9b0a02",
   "metadata": {},
   "outputs": [
    {
     "name": "stdout",
     "output_type": "stream",
     "text": [
      "+----------------+-------+------------------+\n",
      "|       full_name| salary|   salary_increase|\n",
      "+----------------+-------+------------------+\n",
      "|     Drucy Poppy|1463.36|1609.6959838867188|\n",
      "|   Emelyne Blaza|3006.04|  3306.64404296875|\n",
      "|      Max Rettie|1422.88|1565.1680053710938|\n",
      "|     Ilario Kean|3561.36|3917.4961181640624|\n",
      "|    Toddy Drexel|4934.87|  5428.35712890625|\n",
      "| Oswald Petrolli|1153.23| 1268.552978515625|\n",
      "|   Adrian Clarey|1044.73| 1149.202978515625|\n",
      "|Dominica Goodnow|1147.76|1262.5360107421875|\n",
      "|   Emory Slocomb|1082.11|1190.3209838867188|\n",
      "|   Jeremias Bode|3472.63|  3819.89287109375|\n",
      "+----------------+-------+------------------+\n",
      "only showing top 10 rows\n",
      "\n"
     ]
    }
   ],
   "source": [
    "(persons_df.select(concat_ws(\" \", col(\"first_name\"), col(\"last_name\")).alias(\"full_name\"),\n",
    "                  col(\"salary\"),\n",
    "                  (col(\"salary\") * 0.10 + col(\"salary\")).alias(\"salary_increase\"))).show(10)"
   ]
  },
  {
   "cell_type": "code",
   "execution_count": 22,
   "id": "347b0616-dbc1-4d4c-8c4b-8dce2c24b9dd",
   "metadata": {},
   "outputs": [
    {
     "name": "stdout",
     "output_type": "stream",
     "text": [
      "+----------------+-------+------------------+\n",
      "|       full_name| salary|   salary_increase|\n",
      "+----------------+-------+------------------+\n",
      "|     Drucy Poppy|1463.36|1609.6959838867188|\n",
      "|   Emelyne Blaza|3006.04|  3306.64404296875|\n",
      "|      Max Rettie|1422.88|1565.1680053710938|\n",
      "|     Ilario Kean|3561.36|3917.4961181640624|\n",
      "|    Toddy Drexel|4934.87|  5428.35712890625|\n",
      "| Oswald Petrolli|1153.23| 1268.552978515625|\n",
      "|   Adrian Clarey|1044.73| 1149.202978515625|\n",
      "|Dominica Goodnow|1147.76|1262.5360107421875|\n",
      "|   Emory Slocomb|1082.11|1190.3209838867188|\n",
      "|   Jeremias Bode|3472.63|  3819.89287109375|\n",
      "+----------------+-------+------------------+\n",
      "only showing top 10 rows\n",
      "\n"
     ]
    }
   ],
   "source": [
    "(persons_df.select(concat_ws(\" \", col(\"first_name\"), col(\"last_name\")).alias(\"full_name\"),\n",
    "                  col(\"salary\"),\n",
    "                  expr(\"salary * 0.10 + salary\").alias(\"salary_increase\"))).show(10)"
   ]
  },
  {
   "cell_type": "markdown",
   "id": "04b3ff29-0bbc-426e-bd6b-f37f67bd6dd7",
   "metadata": {},
   "source": [
    "## Filter and Where Condition"
   ]
  },
  {
   "cell_type": "code",
   "execution_count": 23,
   "id": "6c255ee8-94c8-48dd-83ab-d409e8dd84b8",
   "metadata": {},
   "outputs": [
    {
     "name": "stdout",
     "output_type": "stream",
     "text": [
      "+---+----------+-----------+--------------------+-------+--------------------+-------------+------+\n",
      "| id|first_name|  last_name|          fav_movies| salary|           image_url|date_of_birth|active|\n",
      "+---+----------+-----------+--------------------+-------+--------------------+-------------+------+\n",
      "|  1|     Drucy|      Poppy|  [I giorni contati]|1463.36|http://dummyimage...|   1991-02-16|  true|\n",
      "|  3|       Max|     Rettie|[The Forgotten Sp...|1422.88|http://dummyimage...|   1990-03-03| false|\n",
      "|  6|    Oswald|   Petrolli|[Wing and the Thi...|1153.23|http://dummyimage...|   1986-09-02| false|\n",
      "|  7|    Adrian|     Clarey|[Walking Tall, Pa...|1044.73|http://dummyimage...|   1971-08-24| false|\n",
      "|  8|  Dominica|    Goodnow|    [Hearts Divided]|1147.76|http://dummyimage...|   1973-08-27| false|\n",
      "|  9|     Emory|    Slocomb|[Snake and Crane ...|1082.11|http://dummyimage...|   1974-06-08|  true|\n",
      "| 11|   Timothy|     Ervine|[Land of the Lost...|1147.61|http://dummyimage...|   1971-06-02| false|\n",
      "| 12|   Leanora|     Gooder|[It's All About L...|1327.02|http://dummyimage...|   1981-12-17| false|\n",
      "| 13|  Claiborn|     Denham|[McCullin, Max Pa...|2623.33|http://dummyimage...|   1996-03-07| false|\n",
      "| 15|    Feodor|Nancekivell|   [Monsoon Wedding]|2218.46|http://dummyimage...|   2000-10-07| false|\n",
      "+---+----------+-----------+--------------------+-------+--------------------+-------------+------+\n",
      "only showing top 10 rows\n",
      "\n"
     ]
    }
   ],
   "source": [
    "persons_df.filter(\"salary <= 3000\").show(10)"
   ]
  },
  {
   "cell_type": "code",
   "execution_count": 24,
   "id": "18fa1908-f9d1-471d-9909-02c9ebce6ff2",
   "metadata": {},
   "outputs": [
    {
     "name": "stdout",
     "output_type": "stream",
     "text": [
      "+---+----------+-----------+--------------------+-------+--------------------+-------------+------+\n",
      "| id|first_name|  last_name|          fav_movies| salary|           image_url|date_of_birth|active|\n",
      "+---+----------+-----------+--------------------+-------+--------------------+-------------+------+\n",
      "|  1|     Drucy|      Poppy|  [I giorni contati]|1463.36|http://dummyimage...|   1991-02-16|  true|\n",
      "|  3|       Max|     Rettie|[The Forgotten Sp...|1422.88|http://dummyimage...|   1990-03-03| false|\n",
      "|  6|    Oswald|   Petrolli|[Wing and the Thi...|1153.23|http://dummyimage...|   1986-09-02| false|\n",
      "|  7|    Adrian|     Clarey|[Walking Tall, Pa...|1044.73|http://dummyimage...|   1971-08-24| false|\n",
      "|  8|  Dominica|    Goodnow|    [Hearts Divided]|1147.76|http://dummyimage...|   1973-08-27| false|\n",
      "|  9|     Emory|    Slocomb|[Snake and Crane ...|1082.11|http://dummyimage...|   1974-06-08|  true|\n",
      "| 11|   Timothy|     Ervine|[Land of the Lost...|1147.61|http://dummyimage...|   1971-06-02| false|\n",
      "| 12|   Leanora|     Gooder|[It's All About L...|1327.02|http://dummyimage...|   1981-12-17| false|\n",
      "| 13|  Claiborn|     Denham|[McCullin, Max Pa...|2623.33|http://dummyimage...|   1996-03-07| false|\n",
      "| 15|    Feodor|Nancekivell|   [Monsoon Wedding]|2218.46|http://dummyimage...|   2000-10-07| false|\n",
      "+---+----------+-----------+--------------------+-------+--------------------+-------------+------+\n",
      "only showing top 10 rows\n",
      "\n"
     ]
    }
   ],
   "source": [
    "persons_df.where(\"salary <= 3000\").show(10)"
   ]
  },
  {
   "cell_type": "code",
   "execution_count": 27,
   "id": "b1f77431-182f-4cce-b486-789c44b93429",
   "metadata": {},
   "outputs": [
    {
     "name": "stdout",
     "output_type": "stream",
     "text": [
      "+---+----------+---------+--------------------+-------+--------------------+-------------+------+\n",
      "| id|first_name|last_name|          fav_movies| salary|           image_url|date_of_birth|active|\n",
      "+---+----------+---------+--------------------+-------+--------------------+-------------+------+\n",
      "|  1|     Drucy|    Poppy|  [I giorni contati]|1463.36|http://dummyimage...|   1991-02-16|  true|\n",
      "|  9|     Emory|  Slocomb|[Snake and Crane ...|1082.11|http://dummyimage...|   1974-06-08|  true|\n",
      "| 16|   Margaux| Archbold|[And Now a Word f...|1013.75|http://dummyimage...|   1988-07-29|  true|\n",
      "| 26|     Clive|      Lax|             [Rabid]|2126.87|http://dummyimage...|   1981-10-26|  true|\n",
      "| 33|  Sherline|  Primett|   [Jungle Fighters]|2309.39|http://dummyimage...|   1972-07-23|  true|\n",
      "| 34|     Davis|    Pinks|          [Hounddog]|1337.14|http://dummyimage...|   1989-07-27|  true|\n",
      "| 37|    Carlen|  Sharply|[Dr. Jekyll and M...|2051.85|http://dummyimage...|   2002-06-01|  true|\n",
      "| 40|    Jordan|   Lorant|[Shockproof, Bach...|2183.91|http://dummyimage...|   1979-07-29|  true|\n",
      "| 49| Kendricks|      Kee|   [Flower & Garnet]|2304.39|http://dummyimage...|   1999-11-14|  true|\n",
      "| 57|   Krystle|  Shovell|[Doomsday, Flight...|2260.76|http://dummyimage...|   1987-09-01|  true|\n",
      "+---+----------+---------+--------------------+-------+--------------------+-------------+------+\n",
      "only showing top 10 rows\n",
      "\n"
     ]
    }
   ],
   "source": [
    "persons_df.where((col(\"salary\") <= 3000) & (col(\"active\") == True)).show(10)"
   ]
  },
  {
   "cell_type": "code",
   "execution_count": 28,
   "id": "e9cea9a2-c13f-413c-b781-4663db2f4134",
   "metadata": {},
   "outputs": [],
   "source": [
    "from pyspark.sql.functions import year"
   ]
  },
  {
   "cell_type": "code",
   "execution_count": 29,
   "id": "9f4e3626-a00e-47e3-b3e4-e86e949806fc",
   "metadata": {},
   "outputs": [
    {
     "name": "stdout",
     "output_type": "stream",
     "text": [
      "+---+----------+-----------+--------------------+-------+--------------------+-------------+------+\n",
      "| id|first_name|  last_name|          fav_movies| salary|           image_url|date_of_birth|active|\n",
      "+---+----------+-----------+--------------------+-------+--------------------+-------------+------+\n",
      "| 14|   Ambrosi|   Vidineev|[Wall Street: Mon...|4550.88|http://dummyimage...|   1989-07-20|  true|\n",
      "| 15|    Feodor|Nancekivell|   [Monsoon Wedding]|2218.46|http://dummyimage...|   2000-10-07| false|\n",
      "| 18|     Alfie|   Hatliffe|     [Lord of Tears]| 3893.1|http://dummyimage...|   1989-06-21|  true|\n",
      "| 25|     Kelcy|     Wogdon|    [Iron Mask, The]|4512.51|http://dummyimage...|   2000-10-20|  true|\n",
      "| 32|      Redd|   Akenhead|[Century of the D...| 2470.9|http://dummyimage...|   2000-06-05| false|\n",
      "| 34|     Davis|      Pinks|          [Hounddog]|1337.14|http://dummyimage...|   1989-07-27|  true|\n",
      "| 61|    Shanna|    Samples|[Thomas in Love (...| 2703.0|http://dummyimage...|   1989-07-07| false|\n",
      "| 69|  Annabell|    Doughty|[Entertaining Ang...|2022.57|http://dummyimage...|   2000-09-03|  true|\n",
      "| 74|     Micky|     Umfrey|[Haunted House, T...|1271.82|http://dummyimage...|   1989-07-04| false|\n",
      "| 88|     Jobie|    Maughan|[Devils on the Do...| 3899.2|http://dummyimage...|   2000-02-07| false|\n",
      "+---+----------+-----------+--------------------+-------+--------------------+-------------+------+\n",
      "\n"
     ]
    }
   ],
   "source": [
    "persons_df.filter((year(\"date_of_birth\") == 2000) | (year(\"date_of_birth\") == 1989)).show()"
   ]
  },
  {
   "cell_type": "code",
   "execution_count": 30,
   "id": "2695eca9-2654-4380-be19-9de819baad9f",
   "metadata": {},
   "outputs": [],
   "source": [
    "from pyspark.sql.functions import array_contains"
   ]
  },
  {
   "cell_type": "code",
   "execution_count": 33,
   "id": "4f987f6e-1683-4ed6-b88d-080513585459",
   "metadata": {},
   "outputs": [
    {
     "name": "stdout",
     "output_type": "stream",
     "text": [
      "+---+----------+---------+--------------------+-------+--------------------+-------------+------+\n",
      "| id|first_name|last_name|          fav_movies| salary|           image_url|date_of_birth|active|\n",
      "+---+----------+---------+--------------------+-------+--------------------+-------------+------+\n",
      "| 11|   Timothy|   Ervine|[Land of the Lost...|1147.61|http://dummyimage...|   1971-06-02| false|\n",
      "+---+----------+---------+--------------------+-------+--------------------+-------------+------+\n",
      "\n"
     ]
    }
   ],
   "source": [
    "persons_df.where(array_contains(persons_df.fav_movies, \"Land of the Lost\")).show()"
   ]
  },
  {
   "cell_type": "code",
   "execution_count": 34,
   "id": "de64b9a1-e7f9-45b4-b759-e90f3d388278",
   "metadata": {},
   "outputs": [
    {
     "name": "stdout",
     "output_type": "stream",
     "text": [
      "+---+----------+---------+--------------------+-------+--------------------+-------------+------+\n",
      "| id|first_name|last_name|          fav_movies| salary|           image_url|date_of_birth|active|\n",
      "+---+----------+---------+--------------------+-------+--------------------+-------------+------+\n",
      "| 11|   Timothy|   Ervine|[Land of the Lost...|1147.61|http://dummyimage...|   1971-06-02| false|\n",
      "+---+----------+---------+--------------------+-------+--------------------+-------------+------+\n",
      "\n"
     ]
    }
   ],
   "source": [
    "persons_df.where(array_contains(col(\"fav_movies\"), \"Land of the Lost\")).show()"
   ]
  },
  {
   "cell_type": "markdown",
   "id": "42f835db-e890-40a2-b52a-a664cfa40073",
   "metadata": {},
   "source": [
    "## Distinct, Drop Duplicates, Order By"
   ]
  },
  {
   "cell_type": "code",
   "execution_count": 35,
   "id": "1c1e4e75-3df4-49cf-a113-fe0d7ea99ddc",
   "metadata": {},
   "outputs": [],
   "source": [
    "from pyspark.sql.functions import count, desc"
   ]
  },
  {
   "cell_type": "code",
   "execution_count": 36,
   "id": "98a1f27a-37e8-462f-adac-30b8c8d6209a",
   "metadata": {},
   "outputs": [
    {
     "name": "stdout",
     "output_type": "stream",
     "text": [
      "+------+\n",
      "|active|\n",
      "+------+\n",
      "|  true|\n",
      "| false|\n",
      "| false|\n",
      "|  true|\n",
      "|  true|\n",
      "| false|\n",
      "| false|\n",
      "| false|\n",
      "|  true|\n",
      "|  true|\n",
      "+------+\n",
      "only showing top 10 rows\n",
      "\n"
     ]
    }
   ],
   "source": [
    "persons_df.select(\"active\").show(10)"
   ]
  },
  {
   "cell_type": "code",
   "execution_count": 38,
   "id": "f361908a-55b9-432b-bf5b-99c51ac85682",
   "metadata": {},
   "outputs": [
    {
     "name": "stdout",
     "output_type": "stream",
     "text": [
      "+------+\n",
      "|active|\n",
      "+------+\n",
      "|  true|\n",
      "| false|\n",
      "+------+\n",
      "\n"
     ]
    }
   ],
   "source": [
    "persons_df.select(\"active\").distinct().show()"
   ]
  },
  {
   "cell_type": "code",
   "execution_count": 39,
   "id": "120b44f5-1b12-4605-81a6-a331fc4867ce",
   "metadata": {},
   "outputs": [
    {
     "name": "stdout",
     "output_type": "stream",
     "text": [
      "+----------+----+------+\n",
      "|first_name|year|active|\n",
      "+----------+----+------+\n",
      "|    Adrian|1971| false|\n",
      "|   Feodora|1971|  true|\n",
      "|       Sky|1971| false|\n",
      "|   Timothy|1971| false|\n",
      "|    Lucita|1972|  true|\n",
      "|      Rodi|1972| false|\n",
      "|  Sherline|1972|  true|\n",
      "|     Toddy|1972|  true|\n",
      "|  Dominica|1973| false|\n",
      "|    Kelila|1973|  true|\n",
      "+----------+----+------+\n",
      "only showing top 10 rows\n",
      "\n"
     ]
    }
   ],
   "source": [
    "(persons_df.select(\"first_name\",\n",
    "                   year(col(\"date_of_birth\")).alias(\"year\"),\n",
    "                   \"active\"\n",
    "                  ).orderBy(\"year\",\"first_name\")\n",
    ").show(10)"
   ]
  },
  {
   "cell_type": "code",
   "execution_count": 40,
   "id": "0d39de7d-8c7c-4422-becb-bc5f7b716431",
   "metadata": {},
   "outputs": [],
   "source": [
    "dropped_df = (persons_df.select(\"first_name\",\n",
    "                                year(col(\"date_of_birth\")).alias(\"year\"),\n",
    "                                \"active\"\n",
    "                               ).dropDuplicates([\"year\",\"active\"])\n",
    "             ).orderBy(\"year\",\"first_name\")"
   ]
  },
  {
   "cell_type": "code",
   "execution_count": 41,
   "id": "73a4f9c6-7e8e-42ff-bd2a-a3e70fac73fd",
   "metadata": {},
   "outputs": [
    {
     "name": "stdout",
     "output_type": "stream",
     "text": [
      "+----------+----+------+\n",
      "|first_name|year|active|\n",
      "+----------+----+------+\n",
      "|    Adrian|1971| false|\n",
      "|   Feodora|1971|  true|\n",
      "|      Rodi|1972| false|\n",
      "|  Sherline|1972|  true|\n",
      "|  Dominica|1973| false|\n",
      "|    Kelila|1973|  true|\n",
      "|   Balduin|1974| false|\n",
      "|     Emory|1974|  true|\n",
      "|    Janean|1975|  true|\n",
      "|       Bev|1976|  true|\n",
      "| Franciska|1976| false|\n",
      "|     Johny|1977| false|\n",
      "|    Daveta|1978| false|\n",
      "|   Guthrie|1978|  true|\n",
      "|      Maxi|1979| false|\n",
      "|   Melinda|1979|  true|\n",
      "|    Carter|1980| false|\n",
      "|   Loralyn|1980|  true|\n",
      "|     Clive|1981|  true|\n",
      "|   Leanora|1981| false|\n",
      "+----------+----+------+\n",
      "only showing top 20 rows\n",
      "\n"
     ]
    }
   ],
   "source": [
    "dropped_df.show()"
   ]
  },
  {
   "cell_type": "code",
   "execution_count": 42,
   "id": "976ddc8e-067c-4d30-8b7c-22f3935b3e51",
   "metadata": {},
   "outputs": [
    {
     "name": "stdout",
     "output_type": "stream",
     "text": [
      "+----------+----+------+\n",
      "|first_name|year|active|\n",
      "+----------+----+------+\n",
      "|     Daron|2002|  true|\n",
      "|    Virgie|2002|  true|\n",
      "|    Carlen|2002|  true|\n",
      "|   Lorilee|2002| false|\n",
      "|    Maxine|2001| false|\n",
      "|    Feodor|2000| false|\n",
      "|     Kelcy|2000|  true|\n",
      "|  Annabell|2000|  true|\n",
      "|      Redd|2000| false|\n",
      "|     Jobie|2000| false|\n",
      "+----------+----+------+\n",
      "only showing top 10 rows\n",
      "\n"
     ]
    }
   ],
   "source": [
    "(persons_df.select(\"first_name\",\n",
    "                   year(col(\"date_of_birth\")).alias(\"year\"),\n",
    "                   \"active\"\n",
    "                  ).orderBy(\"year\",ascending=False)\n",
    ").show(10)"
   ]
  },
  {
   "cell_type": "markdown",
   "id": "59003d97-0435-4dbb-9708-bc5aa2e77830",
   "metadata": {},
   "source": [
    "## Rows add Union"
   ]
  },
  {
   "cell_type": "code",
   "execution_count": 43,
   "id": "3cc98474-be46-4f33-b37e-6a055a2a19e0",
   "metadata": {},
   "outputs": [],
   "source": [
    "from pyspark.sql import Row"
   ]
  },
  {
   "cell_type": "code",
   "execution_count": 58,
   "id": "d25e9a0b-fc22-4e57-8505-bd7853afcf38",
   "metadata": {},
   "outputs": [],
   "source": [
    "person_row = Row(101, \"Robert\", \"Owens\", [\"Men in Black III\", \"Home Alone\"], 4300.64, \"http://someimage.com\",\"1964-08-18\",True)"
   ]
  },
  {
   "cell_type": "code",
   "execution_count": 59,
   "id": "b12472c7-0c50-41dd-bc35-19b4e85a41c2",
   "metadata": {},
   "outputs": [],
   "source": [
    "person_rows_list = [Row(102, \"Kenny\", \"Bobien\", [\"Men in Black III\", \"Home Alone\"], 4300.64, \"http://someimage.com\",\"1964-08-18\",True),\n",
    "                     Row(103, \"Sara\", \"Devine\", [\"Men in Black III\", \"Home Alone\"], 4300.64, \"http://someimage.com\",\"1964-08-18\",True)]"
   ]
  },
  {
   "cell_type": "code",
   "execution_count": 60,
   "id": "3c2c658d-19a9-476c-8b20-a9ad22498918",
   "metadata": {},
   "outputs": [],
   "source": [
    "person_rows_list.append(person_row)"
   ]
  },
  {
   "cell_type": "code",
   "execution_count": 61,
   "id": "a325f5f5-c213-4677-bd31-34c64429cdaa",
   "metadata": {},
   "outputs": [
    {
     "name": "stdout",
     "output_type": "stream",
     "text": [
      "[<Row(102, 'Kenny', 'Bobien', ['Men in Black III', 'Home Alone'], 4300.64, 'http://someimage.com', '1964-08-18', True)>, <Row(103, 'Sara', 'Devine', ['Men in Black III', 'Home Alone'], 4300.64, 'http://someimage.com', '1964-08-18', True)>, <Row(101, 'Robert', 'Owens', ['Men in Black III', 'Home Alone'], 4300.64, 'http://someimage.com', '1964-08-18', True)>]\n"
     ]
    }
   ],
   "source": [
    "print(person_rows_list)"
   ]
  },
  {
   "cell_type": "code",
   "execution_count": 62,
   "id": "cf610966-210d-43bc-9528-ad1615b217d8",
   "metadata": {},
   "outputs": [
    {
     "data": {
      "text/plain": [
       "'Robert'"
      ]
     },
     "execution_count": 62,
     "metadata": {},
     "output_type": "execute_result"
    }
   ],
   "source": [
    "person_row[1]"
   ]
  },
  {
   "cell_type": "code",
   "execution_count": 63,
   "id": "5a92b781-c3b7-4d1e-9a97-d20ee9fda111",
   "metadata": {},
   "outputs": [],
   "source": [
    "new_persons_df = spark.createDataFrame(person_rows_list, [\"id\", \"first_name\", \"last_name\", \"fav_movies\", \"salary\", \"image_url\", \"date_of_birth\", \"active\"])"
   ]
  },
  {
   "cell_type": "code",
   "execution_count": 64,
   "id": "36bb2301-f350-47b9-869e-5510f284ac6b",
   "metadata": {},
   "outputs": [
    {
     "name": "stdout",
     "output_type": "stream",
     "text": [
      "+---+----------+---------+--------------------+------------------+--------------------+-------------+------+\n",
      "| id|first_name|last_name|          fav_movies|            salary|           image_url|date_of_birth|active|\n",
      "+---+----------+---------+--------------------+------------------+--------------------+-------------+------+\n",
      "|103|      Sara|   Devine|[Men in Black III...|           4300.64|http://someimage.com|   1964-08-18|  true|\n",
      "|102|     Kenny|   Bobien|[Men in Black III...|           4300.64|http://someimage.com|   1964-08-18|  true|\n",
      "|101|    Robert|    Owens|[Men in Black III...|           4300.64|http://someimage.com|   1964-08-18|  true|\n",
      "|100|    Virgie| Domanski|[Horseman, The, S...| 2165.929931640625|http://dummyimage...|   2002-01-05|  true|\n",
      "| 99|   Rozalie|   Wannop|[Suddenly, The No...|1259.6400146484375|http://dummyimage...|   1997-03-25| false|\n",
      "| 98|     Davin|     Labb|[Viva Riva!, Kill...| 1452.739990234375|http://dummyimage...|   1988-01-27|  true|\n",
      "| 97|      Rodi|   Farnan|[Code, The (Menta...|   2325.8798828125|http://dummyimage...|   1972-01-04| false|\n",
      "| 96|       Dew| Coopland|              [Rush]|  2725.56005859375|http://dummyimage...|   1986-11-14| false|\n",
      "| 95|      Cobb|  MacLure|[Storage 24, His ...|1621.1700439453125|http://dummyimage...|   1994-06-28| false|\n",
      "| 94|    Bennie|   Knight|[House on Carroll...| 2370.239990234375|http://dummyimage...|   1977-08-27| false|\n",
      "+---+----------+---------+--------------------+------------------+--------------------+-------------+------+\n",
      "only showing top 10 rows\n",
      "\n"
     ]
    }
   ],
   "source": [
    "add_persons_df = persons_df.union(new_persons_df)\n",
    "add_persons_df.sort(desc(\"id\")).show(10)"
   ]
  },
  {
   "cell_type": "markdown",
   "id": "44928977-0051-434a-9ea3-e0c0ca3ceb06",
   "metadata": {},
   "source": [
    "## Adding, Renaming and Dropping Columns"
   ]
  },
  {
   "cell_type": "code",
   "execution_count": 65,
   "id": "e4031af5-30c5-46fd-b00c-fdc04fc4824a",
   "metadata": {},
   "outputs": [],
   "source": [
    "from pyspark.sql.functions import round"
   ]
  },
  {
   "cell_type": "code",
   "execution_count": 66,
   "id": "c150a595-5076-47aa-95aa-abadfaff82a1",
   "metadata": {},
   "outputs": [
    {
     "name": "stdout",
     "output_type": "stream",
     "text": [
      "+---+----------+---------+--------------------+-------+--------------------+-------------+------+------------------+\n",
      "| id|first_name|last_name|          fav_movies| salary|           image_url|date_of_birth|active|   salary_increase|\n",
      "+---+----------+---------+--------------------+-------+--------------------+-------------+------+------------------+\n",
      "|  1|     Drucy|    Poppy|  [I giorni contati]|1463.36|http://dummyimage...|   1991-02-16|  true|1609.6959838867188|\n",
      "|  2|   Emelyne|    Blaza|[Musketeer, The, ...|3006.04|http://dummyimage...|   1991-11-02| false|  3306.64404296875|\n",
      "|  3|       Max|   Rettie|[The Forgotten Sp...|1422.88|http://dummyimage...|   1990-03-03| false|1565.1680053710938|\n",
      "|  4|    Ilario|     Kean|[Up Close and Per...|3561.36|http://dummyimage...|   1987-06-09|  true|3917.4961181640624|\n",
      "|  5|     Toddy|   Drexel|[Walk in the Clou...|4934.87|http://dummyimage...|   1992-10-28|  true|  5428.35712890625|\n",
      "|  6|    Oswald| Petrolli|[Wing and the Thi...|1153.23|http://dummyimage...|   1986-09-02| false| 1268.552978515625|\n",
      "|  7|    Adrian|   Clarey|[Walking Tall, Pa...|1044.73|http://dummyimage...|   1971-08-24| false| 1149.202978515625|\n",
      "|  8|  Dominica|  Goodnow|    [Hearts Divided]|1147.76|http://dummyimage...|   1973-08-27| false|1262.5360107421875|\n",
      "|  9|     Emory|  Slocomb|[Snake and Crane ...|1082.11|http://dummyimage...|   1974-06-08|  true|1190.3209838867188|\n",
      "| 10|  Jeremias|     Bode|[Farewell to Arms...|3472.63|http://dummyimage...|   1997-08-02|  true|  3819.89287109375|\n",
      "+---+----------+---------+--------------------+-------+--------------------+-------------+------+------------------+\n",
      "only showing top 10 rows\n",
      "\n"
     ]
    }
   ],
   "source": [
    "aug_persons_df1 = persons_df.withColumn(\"salary_increase\", expr(\"salary * 0.10 + salary\"))\n",
    "aug_persons_df1.show(10)"
   ]
  },
  {
   "cell_type": "code",
   "execution_count": 67,
   "id": "a905ad56-0b6c-4e25-88a0-ac3521c173bc",
   "metadata": {},
   "outputs": [
    {
     "data": {
      "text/plain": [
       "['id',\n",
       " 'first_name',\n",
       " 'last_name',\n",
       " 'fav_movies',\n",
       " 'salary',\n",
       " 'image_url',\n",
       " 'date_of_birth',\n",
       " 'active',\n",
       " 'salary_increase']"
      ]
     },
     "execution_count": 67,
     "metadata": {},
     "output_type": "execute_result"
    }
   ],
   "source": [
    "aug_persons_df1.columns"
   ]
  },
  {
   "cell_type": "code",
   "execution_count": 68,
   "id": "ef211c49-d82c-4ad4-a691-22ad7704e72f",
   "metadata": {},
   "outputs": [],
   "source": [
    "aug_persons_df2 = (aug_persons_df1\n",
    "                   .withColumn(\"birth_year\", year(\"date_of_birth\"))\n",
    "                   .withColumnRenamed(\"fav_movies\", \"movies\")\n",
    "                   .withColumn(\"salary_x10\",round(col(\"salary_increase\"),2))\n",
    "                   .drop(\"salary_increase\")\n",
    "                  )"
   ]
  },
  {
   "cell_type": "code",
   "execution_count": 69,
   "id": "437c158b-465c-4e11-84c3-0eb49cac9534",
   "metadata": {},
   "outputs": [
    {
     "name": "stdout",
     "output_type": "stream",
     "text": [
      "+---+----------+---------+--------------------+-------+--------------------+-------------+------+----------+----------+\n",
      "| id|first_name|last_name|              movies| salary|           image_url|date_of_birth|active|birth_year|salary_x10|\n",
      "+---+----------+---------+--------------------+-------+--------------------+-------------+------+----------+----------+\n",
      "|  1|     Drucy|    Poppy|  [I giorni contati]|1463.36|http://dummyimage...|   1991-02-16|  true|      1991|    1609.7|\n",
      "|  2|   Emelyne|    Blaza|[Musketeer, The, ...|3006.04|http://dummyimage...|   1991-11-02| false|      1991|   3306.64|\n",
      "|  3|       Max|   Rettie|[The Forgotten Sp...|1422.88|http://dummyimage...|   1990-03-03| false|      1990|   1565.17|\n",
      "|  4|    Ilario|     Kean|[Up Close and Per...|3561.36|http://dummyimage...|   1987-06-09|  true|      1987|    3917.5|\n",
      "|  5|     Toddy|   Drexel|[Walk in the Clou...|4934.87|http://dummyimage...|   1992-10-28|  true|      1992|   5428.36|\n",
      "|  6|    Oswald| Petrolli|[Wing and the Thi...|1153.23|http://dummyimage...|   1986-09-02| false|      1986|   1268.55|\n",
      "|  7|    Adrian|   Clarey|[Walking Tall, Pa...|1044.73|http://dummyimage...|   1971-08-24| false|      1971|    1149.2|\n",
      "|  8|  Dominica|  Goodnow|    [Hearts Divided]|1147.76|http://dummyimage...|   1973-08-27| false|      1973|   1262.54|\n",
      "|  9|     Emory|  Slocomb|[Snake and Crane ...|1082.11|http://dummyimage...|   1974-06-08|  true|      1974|   1190.32|\n",
      "| 10|  Jeremias|     Bode|[Farewell to Arms...|3472.63|http://dummyimage...|   1997-08-02|  true|      1997|   3819.89|\n",
      "+---+----------+---------+--------------------+-------+--------------------+-------------+------+----------+----------+\n",
      "only showing top 10 rows\n",
      "\n"
     ]
    }
   ],
   "source": [
    "aug_persons_df2.show(10)"
   ]
  },
  {
   "cell_type": "markdown",
   "id": "11db762c-3216-41d9-b9c6-534dbfd9fbcc",
   "metadata": {},
   "source": [
    "## Working with missing or bad data"
   ]
  },
  {
   "cell_type": "code",
   "execution_count": 70,
   "id": "0abb64de-c297-4018-8e9c-4d43a73312a2",
   "metadata": {},
   "outputs": [],
   "source": [
    "bad_movies_list = [Row(None, None, None),\n",
    "                   Row(None, None, 2020),\n",
    "                   Row(\"John Doe\", \"Awesome Movie\", None),\n",
    "                   Row(None, \"Awesome Movie\", 2021),\n",
    "                   Row(\"Mary Jane\", None, 2019),\n",
    "                   Row(\"Vikter Duplaix\", \"Not another teen movie\", 2001)]"
   ]
  },
  {
   "cell_type": "code",
   "execution_count": 71,
   "id": "916209af-480d-4743-b3c6-d66d043b3862",
   "metadata": {},
   "outputs": [
    {
     "data": {
      "text/plain": [
       "[<Row(None, None, None)>,\n",
       " <Row(None, None, 2020)>,\n",
       " <Row('John Doe', 'Awesome Movie', None)>,\n",
       " <Row(None, 'Awesome Movie', 2021)>,\n",
       " <Row('Mary Jane', None, 2019)>,\n",
       " <Row('Vikter Duplaix', 'Not another teen movie', 2001)>]"
      ]
     },
     "execution_count": 71,
     "metadata": {},
     "output_type": "execute_result"
    }
   ],
   "source": [
    "bad_movies_list"
   ]
  },
  {
   "cell_type": "code",
   "execution_count": 72,
   "id": "305222e6-60d8-4e75-a593-c6d0ab276bfa",
   "metadata": {},
   "outputs": [],
   "source": [
    "bad_movies_columns = [\"actor_name\",\"movie_title\",\"produced_year\"]"
   ]
  },
  {
   "cell_type": "code",
   "execution_count": 73,
   "id": "62128698-c4ea-449c-b5c6-d14626f805fa",
   "metadata": {},
   "outputs": [],
   "source": [
    "bad_movies_df = spark.createDataFrame(bad_movies_list, schema=bad_movies_columns)"
   ]
  },
  {
   "cell_type": "code",
   "execution_count": 74,
   "id": "df32f726-c66a-49da-9d9c-b9f89cc151bf",
   "metadata": {},
   "outputs": [
    {
     "name": "stdout",
     "output_type": "stream",
     "text": [
      "+--------------+--------------------+-------------+\n",
      "|    actor_name|         movie_title|produced_year|\n",
      "+--------------+--------------------+-------------+\n",
      "|          null|                null|         null|\n",
      "|          null|                null|         2020|\n",
      "|      John Doe|       Awesome Movie|         null|\n",
      "|          null|       Awesome Movie|         2021|\n",
      "|     Mary Jane|                null|         2019|\n",
      "|Vikter Duplaix|Not another teen ...|         2001|\n",
      "+--------------+--------------------+-------------+\n",
      "\n"
     ]
    }
   ],
   "source": [
    "bad_movies_df.show()"
   ]
  },
  {
   "cell_type": "code",
   "execution_count": 75,
   "id": "8b767f9e-dfb6-49b3-9c2a-38cf51346ac4",
   "metadata": {},
   "outputs": [
    {
     "name": "stdout",
     "output_type": "stream",
     "text": [
      "+--------------+--------------------+-------------+\n",
      "|    actor_name|         movie_title|produced_year|\n",
      "+--------------+--------------------+-------------+\n",
      "|Vikter Duplaix|Not another teen ...|         2001|\n",
      "+--------------+--------------------+-------------+\n",
      "\n"
     ]
    }
   ],
   "source": [
    "bad_movies_df.na.drop().show()"
   ]
  },
  {
   "cell_type": "code",
   "execution_count": 76,
   "id": "1c8395d4-abce-475f-aefb-8d1d5c18f0cc",
   "metadata": {},
   "outputs": [
    {
     "name": "stdout",
     "output_type": "stream",
     "text": [
      "+--------------+--------------------+-------------+\n",
      "|    actor_name|         movie_title|produced_year|\n",
      "+--------------+--------------------+-------------+\n",
      "|Vikter Duplaix|Not another teen ...|         2001|\n",
      "+--------------+--------------------+-------------+\n",
      "\n"
     ]
    }
   ],
   "source": [
    "bad_movies_df.na.drop(\"any\").show()"
   ]
  },
  {
   "cell_type": "code",
   "execution_count": 77,
   "id": "78e11915-c17e-440d-9a24-a43e213e3c6a",
   "metadata": {},
   "outputs": [
    {
     "name": "stdout",
     "output_type": "stream",
     "text": [
      "+--------------+--------------------+-------------+\n",
      "|    actor_name|         movie_title|produced_year|\n",
      "+--------------+--------------------+-------------+\n",
      "|          null|                null|         2020|\n",
      "|      John Doe|       Awesome Movie|         null|\n",
      "|          null|       Awesome Movie|         2021|\n",
      "|     Mary Jane|                null|         2019|\n",
      "|Vikter Duplaix|Not another teen ...|         2001|\n",
      "+--------------+--------------------+-------------+\n",
      "\n"
     ]
    }
   ],
   "source": [
    "bad_movies_df.na.drop(\"all\").show()"
   ]
  },
  {
   "cell_type": "code",
   "execution_count": 78,
   "id": "dbebfdd0-44e7-4edc-af3e-bc38bbd51289",
   "metadata": {},
   "outputs": [
    {
     "name": "stdout",
     "output_type": "stream",
     "text": [
      "+--------------+--------------------+-------------+\n",
      "|    actor_name|         movie_title|produced_year|\n",
      "+--------------+--------------------+-------------+\n",
      "|      John Doe|       Awesome Movie|         null|\n",
      "|     Mary Jane|                null|         2019|\n",
      "|Vikter Duplaix|Not another teen ...|         2001|\n",
      "+--------------+--------------------+-------------+\n",
      "\n"
     ]
    }
   ],
   "source": [
    "bad_movies_df.filter(col(\"actor_name\").isNull() != True).show()"
   ]
  },
  {
   "cell_type": "code",
   "execution_count": 79,
   "id": "21156910-0471-43d5-a793-eeb81f67c982",
   "metadata": {},
   "outputs": [
    {
     "name": "stdout",
     "output_type": "stream",
     "text": [
      "+----------+-------------+-------------+\n",
      "|actor_name|  movie_title|produced_year|\n",
      "+----------+-------------+-------------+\n",
      "|      null|         null|         null|\n",
      "|      null|         null|         2020|\n",
      "|      null|Awesome Movie|         2021|\n",
      "+----------+-------------+-------------+\n",
      "\n"
     ]
    }
   ],
   "source": [
    "bad_movies_df.filter(col(\"actor_name\").isNull() != False).show()"
   ]
  },
  {
   "cell_type": "code",
   "execution_count": 80,
   "id": "6b8e2978-105e-4712-8b8f-e1981fb9d161",
   "metadata": {},
   "outputs": [
    {
     "name": "stdout",
     "output_type": "stream",
     "text": [
      "+-------+-----------------+\n",
      "|summary|    produced_year|\n",
      "+-------+-----------------+\n",
      "|  count|                4|\n",
      "|   mean|          2015.25|\n",
      "| stddev|9.535023160258536|\n",
      "|    min|             2001|\n",
      "|    max|             2021|\n",
      "+-------+-----------------+\n",
      "\n"
     ]
    }
   ],
   "source": [
    "bad_movies_df.describe(\"produced_year\").show()"
   ]
  },
  {
   "cell_type": "code",
   "execution_count": 81,
   "id": "b8ccbc6a-75c9-4c3d-b91a-d105f04ebdfe",
   "metadata": {},
   "outputs": [
    {
     "name": "stdout",
     "output_type": "stream",
     "text": [
      "+-------+--------------+\n",
      "|summary|    actor_name|\n",
      "+-------+--------------+\n",
      "|  count|             3|\n",
      "|   mean|          null|\n",
      "| stddev|          null|\n",
      "|    min|      John Doe|\n",
      "|    max|Vikter Duplaix|\n",
      "+-------+--------------+\n",
      "\n"
     ]
    }
   ],
   "source": [
    "bad_movies_df.describe(\"actor_name\").show()"
   ]
  },
  {
   "cell_type": "markdown",
   "id": "3df0d483-be2b-438e-bcc0-b3fda62f3fb9",
   "metadata": {},
   "source": [
    "## Working with User Defined Functions"
   ]
  },
  {
   "cell_type": "code",
   "execution_count": 82,
   "id": "893a9f45-7e01-4de4-8389-93a8c6f18175",
   "metadata": {},
   "outputs": [],
   "source": [
    "from pyspark.sql.functions import udf"
   ]
  },
  {
   "cell_type": "code",
   "execution_count": 83,
   "id": "9acae703-e5dd-43eb-8a08-aebdf7a057a3",
   "metadata": {},
   "outputs": [],
   "source": [
    "students_list = [(\"Joe\", 85),\n",
    "                 (\"Jane\", 90),\n",
    "                 (\"Mary\", 55)                \n",
    "                ]"
   ]
  },
  {
   "cell_type": "code",
   "execution_count": 84,
   "id": "44085346-46f3-4d40-9150-84f1bd382fff",
   "metadata": {},
   "outputs": [],
   "source": [
    "students_columns = [\"name\", \"score\"]"
   ]
  },
  {
   "cell_type": "code",
   "execution_count": 86,
   "id": "c220963f-9c89-440a-bd3d-010f9d1c3a47",
   "metadata": {},
   "outputs": [],
   "source": [
    "students_df = spark.createDataFrame(students_list, schema=students_columns)"
   ]
  },
  {
   "cell_type": "code",
   "execution_count": 87,
   "id": "35290bed-cead-4044-880c-d1fa72bf69d7",
   "metadata": {},
   "outputs": [
    {
     "name": "stdout",
     "output_type": "stream",
     "text": [
      "+----+-----+\n",
      "|name|score|\n",
      "+----+-----+\n",
      "| Joe|   85|\n",
      "|Jane|   90|\n",
      "|Mary|   55|\n",
      "+----+-----+\n",
      "\n"
     ]
    }
   ],
   "source": [
    "students_df.show()"
   ]
  },
  {
   "cell_type": "code",
   "execution_count": 90,
   "id": "a91a5338-e7a7-4a14-87f7-b6cff42fbcab",
   "metadata": {},
   "outputs": [],
   "source": [
    "def letterGrade(score:int):\n",
    "    grade = ''\n",
    "    if score > 100:\n",
    "        grade = \"Cheating\"\n",
    "    elif score >= 90:\n",
    "        grade = \"A\"\n",
    "    elif score >= 80:\n",
    "        grade = \"B\"\n",
    "    elif score >= 70:\n",
    "        grade = \"C\"\n",
    "    else:\n",
    "        grade = \"F\"\n",
    "    return grade"
   ]
  },
  {
   "cell_type": "code",
   "execution_count": 91,
   "id": "495296ca-6f4d-490f-91d2-295dbe506d5d",
   "metadata": {},
   "outputs": [
    {
     "name": "stdout",
     "output_type": "stream",
     "text": [
      "C\n"
     ]
    }
   ],
   "source": [
    "print(letterGrade(75))"
   ]
  },
  {
   "cell_type": "code",
   "execution_count": 92,
   "id": "b7d8ffba-f601-420f-ad85-2ac6dfc40a07",
   "metadata": {},
   "outputs": [],
   "source": [
    "letterGradeUDF = udf(letterGrade)"
   ]
  },
  {
   "cell_type": "code",
   "execution_count": 93,
   "id": "31baafa4-73bb-49d7-a47b-5d6e7f80280f",
   "metadata": {},
   "outputs": [
    {
     "name": "stdout",
     "output_type": "stream",
     "text": [
      "+----+-----+-----+\n",
      "|name|score|grade|\n",
      "+----+-----+-----+\n",
      "| Joe|   85|    B|\n",
      "|Jane|   90|    A|\n",
      "|Mary|   55|    F|\n",
      "+----+-----+-----+\n",
      "\n"
     ]
    }
   ],
   "source": [
    "students_df.select(\"name\",\"score\",letterGradeUDF(col(\"score\")).alias(\"grade\")).show()"
   ]
  },
  {
   "cell_type": "code",
   "execution_count": null,
   "id": "dc297c43-1d69-49ef-8fba-1f79dd1bdebf",
   "metadata": {},
   "outputs": [],
   "source": []
  }
 ],
 "metadata": {
  "kernelspec": {
   "display_name": "Python 3 (ipykernel)",
   "language": "python",
   "name": "python3"
  },
  "language_info": {
   "codemirror_mode": {
    "name": "ipython",
    "version": 3
   },
   "file_extension": ".py",
   "mimetype": "text/x-python",
   "name": "python",
   "nbconvert_exporter": "python",
   "pygments_lexer": "ipython3",
   "version": "3.9.6"
  }
 },
 "nbformat": 4,
 "nbformat_minor": 5
}
