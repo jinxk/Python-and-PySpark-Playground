{
 "cells": [
  {
   "cell_type": "code",
   "execution_count": 1,
   "id": "8baba964",
   "metadata": {},
   "outputs": [],
   "source": [
    "from pyspark.sql import SparkSession\n",
    "from pyspark.sql.functions import count"
   ]
  },
  {
   "cell_type": "code",
   "execution_count": 2,
   "id": "089c9c70",
   "metadata": {},
   "outputs": [],
   "source": [
    "spark = (SparkSession.builder.appName(\"TotalOrdersPerRegionCountry\").getOrCreate())"
   ]
  },
  {
   "cell_type": "code",
   "execution_count": 3,
   "id": "febf01c6",
   "metadata": {},
   "outputs": [
    {
     "data": {
      "text/plain": [
       "pyspark.sql.session.SparkSession"
      ]
     },
     "execution_count": 3,
     "metadata": {},
     "output_type": "execute_result"
    }
   ],
   "source": [
    "type(spark)"
   ]
  },
  {
   "cell_type": "code",
   "execution_count": 4,
   "id": "628d94ca",
   "metadata": {},
   "outputs": [
    {
     "name": "stdout",
     "output_type": "stream",
     "text": [
      "+---------------------------------+---------------------+---------+\n",
      "|Region                           |Country              |Order ID |\n",
      "+---------------------------------+---------------------+---------+\n",
      "|Middle East and North Africa     |Azerbaijan           |535113847|\n",
      "|Central America and the Caribbean|Panama               |874708545|\n",
      "|Sub-Saharan Africa               |Sao Tome and Principe|854349935|\n",
      "|Sub-Saharan Africa               |Sao Tome and Principe|892836844|\n",
      "|Central America and the Caribbean|Belize               |129280602|\n",
      "|Europe                           |Denmark              |473105037|\n",
      "|Europe                           |Germany              |754046475|\n",
      "|Middle East and North Africa     |Turkey               |772153747|\n",
      "|Europe                           |United Kingdom       |847788178|\n",
      "|Asia                             |Kazakhstan           |471623599|\n",
      "+---------------------------------+---------------------+---------+\n",
      "only showing top 10 rows\n",
      "\n"
     ]
    }
   ],
   "source": [
    "sales_file = \"data/sales_records.csv\"\n",
    "\n",
    "sales_df = (spark.read.format(\"csv\").option(\"header\",\"true\").option(\"inferSchema\",\"true\").load(sales_file))\n",
    "\n",
    "sales_df.select(\"Region\",\"Country\", \"Order ID\").show(n=10, truncate=False)"
   ]
  },
  {
   "cell_type": "code",
   "execution_count": 5,
   "id": "c2a6871f",
   "metadata": {},
   "outputs": [
    {
     "data": {
      "text/plain": [
       "pyspark.sql.dataframe.DataFrame"
      ]
     },
     "execution_count": 5,
     "metadata": {},
     "output_type": "execute_result"
    }
   ],
   "source": [
    "type(sales_df)"
   ]
  },
  {
   "cell_type": "code",
   "execution_count": 6,
   "id": "4efab2ba",
   "metadata": {},
   "outputs": [
    {
     "name": "stdout",
     "output_type": "stream",
     "text": [
      "+---------------------------------+------------+------------+\n",
      "|Region                           |Country     |Total Orders|\n",
      "+---------------------------------+------------+------------+\n",
      "|Sub-Saharan Africa               |Sudan       |623         |\n",
      "|Australia and Oceania            |New Zealand |593         |\n",
      "|Europe                           |Vatican City|590         |\n",
      "|Sub-Saharan Africa               |Mozambique  |589         |\n",
      "|Europe                           |Malta       |589         |\n",
      "|Middle East and North Africa     |Tunisia     |584         |\n",
      "|Asia                             |Cambodia    |584         |\n",
      "|Central America and the Caribbean|Panama      |578         |\n",
      "|Sub-Saharan Africa               |Rwanda      |576         |\n",
      "|Sub-Saharan Africa               |South Africa|575         |\n",
      "+---------------------------------+------------+------------+\n",
      "only showing top 10 rows\n",
      "\n",
      "Total Rows =  185\n"
     ]
    }
   ],
   "source": [
    "count_sales_df = (sales_df.select(\"Region\", \"Country\", \"Order ID\")\n",
    "                      .groupBy(\"Region\",\"Country\").agg(count(\"Order ID\").alias(\"Total Orders\"))\n",
    "                      .orderBy(\"Total Orders\",ascending = False)\n",
    "                 )\n",
    "\n",
    "count_sales_df.show(n=10, truncate=False)\n",
    "\n",
    "print(\"Total Rows = \", (count_sales_df.count()))"
   ]
  },
  {
   "cell_type": "code",
   "execution_count": null,
   "id": "cee23503",
   "metadata": {},
   "outputs": [],
   "source": []
  }
 ],
 "metadata": {
  "kernelspec": {
   "display_name": "Python 3 (ipykernel)",
   "language": "python",
   "name": "python3"
  },
  "language_info": {
   "codemirror_mode": {
    "name": "ipython",
    "version": 3
   },
   "file_extension": ".py",
   "mimetype": "text/x-python",
   "name": "python",
   "nbconvert_exporter": "python",
   "pygments_lexer": "ipython3",
   "version": "3.9.6"
  }
 },
 "nbformat": 4,
 "nbformat_minor": 5
}
