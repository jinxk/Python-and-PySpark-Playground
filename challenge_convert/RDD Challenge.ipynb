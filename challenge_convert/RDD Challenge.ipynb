{
 "cells": [
  {
   "cell_type": "markdown",
   "id": "0fae9a12",
   "metadata": {},
   "source": [
    "# Convert Farhenheit to Degrees Centrigrate"
   ]
  },
  {
   "cell_type": "code",
   "execution_count": 1,
   "id": "7573c0fd",
   "metadata": {},
   "outputs": [],
   "source": [
    "from pyspark.sql import SparkSession\n",
    "spark = (SparkSession.builder.appName(\"TempConversion\").getOrCreate())\n",
    "\n",
    "def fahrenheitToCentrigrade(temperature):\n",
    "    centrigrade = (temperature - 32) * 5 / 9\n",
    "    return centrigrade\n",
    "\n",
    "temps_in_f = [59, 57.2, 53.6, 55.4, 51.8, 53.6, 55.4]\n",
    "rdd_temps_in_f = spark.sparkContext.parallelize(temps_in_f)\n"
   ]
  },
  {
   "cell_type": "code",
   "execution_count": 2,
   "id": "ea0d1747",
   "metadata": {},
   "outputs": [
    {
     "data": {
      "text/plain": [
       "[15.0, 14.000000000000002, 12.0, 13.0, 10.999999999999998, 12.0, 13.0]"
      ]
     },
     "execution_count": 2,
     "metadata": {},
     "output_type": "execute_result"
    }
   ],
   "source": [
    "rdd_temps_in_c = rdd_temps_in_f.map(fahrenheitToCentrigrade)\n",
    "rdd_temps_in_c.collect()"
   ]
  },
  {
   "cell_type": "code",
   "execution_count": 3,
   "id": "83cfe1de",
   "metadata": {},
   "outputs": [
    {
     "data": {
      "text/plain": [
       "[15.0, 14.000000000000002, 13.0, 13.0]"
      ]
     },
     "execution_count": 3,
     "metadata": {},
     "output_type": "execute_result"
    }
   ],
   "source": [
    "rdd_temps_in_c_fil = rdd_temps_in_c.filter(lambda x: x >= 13)\n",
    "rdd_temps_in_c_fil.collect()"
   ]
  },
  {
   "cell_type": "markdown",
   "id": "9f6cca6c",
   "metadata": {},
   "source": [
    "# XYZ Research"
   ]
  },
  {
   "cell_type": "markdown",
   "id": "a9f5dace",
   "metadata": {},
   "source": [
    "Imagine working as a Data Scientist for a company called XYZ Research that performs research on many diversified topics, and each research project comes with a Research ID.\n",
    "\n",
    "Each Research can be completed within a year and beyond.\n",
    "\n",
    "Take a look at the data below;\n",
    "\n",
    "data2001List = ['RIN1', 'RIN2', 'RIN3', 'RIN4', 'RIN5', 'RIN6', 'RIN7']\n",
    "\n",
    "data2002List = ['RIN3', 'RIN4', 'RIN7', 'RIN8', 'RIN9']\n",
    "\n",
    "data2003List = ['RIN4', 'RIN8', 'RIN10', 'RIN11', 'RIN12']\n",
    "\n",
    "The above-mentioned data indicates the number of projects that have been completed over a period of 3 years.\n",
    "\n",
    "In 2001, there were at least 7 research projects [RIN1 - 7] that were initiated, RIN8 and RIN9 were initiated in 2002, while RIN10, RIN11, and RIN12 were initiated in 2003.\n",
    "\n",
    "RIN3 also appears in 2002, meaning that the research project has actually spanned over 2 years, RIN4, on the other hand, appears in 2001, 2002, and 2003 which means that the research project spanned over 3 years.\n",
    "\n",
    "XYZ Research Requires you to examine the data and find answers to the following questions;\n",
    "\n",
    "1. How many research projects were initiated in the three years?\n",
    "\n",
    "2. How many projects were completed in the first year?\n",
    "\n",
    "3. How many projects were completed in the first two years?"
   ]
  },
  {
   "cell_type": "code",
   "execution_count": 4,
   "id": "86f450cf",
   "metadata": {},
   "outputs": [],
   "source": [
    "data2001List = ['RIN1', 'RIN2', 'RIN3', 'RIN4', 'RIN5', 'RIN6', 'RIN7']\n",
    "data2002List = ['RIN3', 'RIN4', 'RIN7', 'RIN8', 'RIN9']\n",
    "data2003List = ['RIN4', 'RIN8', 'RIN10', 'RIN11', 'RIN12']"
   ]
  },
  {
   "cell_type": "code",
   "execution_count": 5,
   "id": "3cc7b8c6",
   "metadata": {},
   "outputs": [],
   "source": [
    "#Initilize the RDDs\n",
    "RDD_data2001List = spark.sparkContext.parallelize(data2001List)\n",
    "RDD_data2002List = spark.sparkContext.parallelize(data2002List)\n",
    "RDD_data2003List = spark.sparkContext.parallelize(data2003List)"
   ]
  },
  {
   "cell_type": "markdown",
   "id": "d32cb9aa",
   "metadata": {},
   "source": [
    "### How many research projects were initiated in the three years?"
   ]
  },
  {
   "cell_type": "code",
   "execution_count": 6,
   "id": "c233f4e4",
   "metadata": {},
   "outputs": [
    {
     "data": {
      "text/plain": [
       "['RIN4',\n",
       " 'RIN10',\n",
       " 'RIN2',\n",
       " 'RIN5',\n",
       " 'RIN11',\n",
       " 'RIN6',\n",
       " 'RIN1',\n",
       " 'RIN9',\n",
       " 'RIN12',\n",
       " 'RIN3',\n",
       " 'RIN8',\n",
       " 'RIN7']"
      ]
     },
     "execution_count": 6,
     "metadata": {},
     "output_type": "execute_result"
    }
   ],
   "source": [
    "RDD_all_research = RDD_data2001List.union(RDD_data2002List.union(RDD_data2003List)).distinct()\n",
    "RDD_all_research.collect()"
   ]
  },
  {
   "cell_type": "code",
   "execution_count": 7,
   "id": "d8d0f9f5",
   "metadata": {},
   "outputs": [
    {
     "data": {
      "text/plain": [
       "12"
      ]
     },
     "execution_count": 7,
     "metadata": {},
     "output_type": "execute_result"
    }
   ],
   "source": [
    "RDD_all_research.count()"
   ]
  },
  {
   "cell_type": "markdown",
   "id": "a3d52c2e",
   "metadata": {},
   "source": [
    "### How many projects were completed in the first year?"
   ]
  },
  {
   "cell_type": "code",
   "execution_count": 8,
   "id": "17d3557e",
   "metadata": {},
   "outputs": [
    {
     "data": {
      "text/plain": [
       "['RIN3', 'RIN4', 'RIN7', 'RIN8', 'RIN9']"
      ]
     },
     "execution_count": 8,
     "metadata": {},
     "output_type": "execute_result"
    }
   ],
   "source": [
    "RDD_firstYearCompletedResearch = RDD_data2001List.subtract(RDD_data2002List)\n",
    "RDD_data2002List.collect()"
   ]
  },
  {
   "cell_type": "code",
   "execution_count": 9,
   "id": "f1a00ce0",
   "metadata": {},
   "outputs": [
    {
     "data": {
      "text/plain": [
       "5"
      ]
     },
     "execution_count": 9,
     "metadata": {},
     "output_type": "execute_result"
    }
   ],
   "source": [
    "RDD_data2002List.count()"
   ]
  },
  {
   "cell_type": "markdown",
   "id": "c1c35cc4",
   "metadata": {},
   "source": [
    "### How many projects were completed in the first two years?"
   ]
  },
  {
   "cell_type": "code",
   "execution_count": 15,
   "id": "636b9b8a",
   "metadata": {},
   "outputs": [
    {
     "data": {
      "text/plain": [
       "['RIN2', 'RIN5', 'RIN6', 'RIN1', 'RIN9', 'RIN3', 'RIN7']"
      ]
     },
     "execution_count": 15,
     "metadata": {},
     "output_type": "execute_result"
    }
   ],
   "source": [
    "RDD_projectsCompletedInFirstTwoYears = (RDD_data2001List.union(RDD_data2002List)).subtract(RDD_data2003List)\n",
    "RDD_projectsCompletedInFirstTwoYears.distinct().collect()"
   ]
  },
  {
   "cell_type": "code",
   "execution_count": 16,
   "id": "c45daf6c",
   "metadata": {},
   "outputs": [
    {
     "data": {
      "text/plain": [
       "7"
      ]
     },
     "execution_count": 16,
     "metadata": {},
     "output_type": "execute_result"
    }
   ],
   "source": [
    "RDD_projectsCompletedInFirstTwoYears.distinct().count()"
   ]
  }
 ],
 "metadata": {
  "kernelspec": {
   "display_name": "Python 3 (ipykernel)",
   "language": "python",
   "name": "python3"
  },
  "language_info": {
   "codemirror_mode": {
    "name": "ipython",
    "version": 3
   },
   "file_extension": ".py",
   "mimetype": "text/x-python",
   "name": "python",
   "nbconvert_exporter": "python",
   "pygments_lexer": "ipython3",
   "version": "3.9.6"
  }
 },
 "nbformat": 4,
 "nbformat_minor": 5
}
